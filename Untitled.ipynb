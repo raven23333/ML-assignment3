{
 "cells": [
  {
   "cell_type": "markdown",
   "id": "4ef4fb56",
   "metadata": {},
   "source": [
    "### Import and define constant"
   ]
  },
  {
   "cell_type": "code",
   "execution_count": 763,
   "id": "784cb6cb",
   "metadata": {},
   "outputs": [],
   "source": [
    "import re\n",
    "import numpy as np\n",
    "import pandas as pd\n",
    "import sklearn.preprocessing as pre_processing\n",
    "from sklearn.metrics import accuracy_score\n",
    "from sklearn.metrics import f1_score\n",
    "from sklearn.model_selection import train_test_split\n",
    "from collections import Counter"
   ]
  },
  {
   "cell_type": "code",
   "execution_count": 764,
   "id": "df3dc584",
   "metadata": {
    "scrolled": true
   },
   "outputs": [],
   "source": [
    "MAX_WORDS=2036\n",
    "manual_del_list=[(1,3),(143,152),(2012,2037)]\n",
    "manual_merge_list=[(128,130),(176,179),(238,242),(799,805),(865,868),(1076,1080),(1081,1086),(1254,1257),(1292,1296),(1590,1595),(1813,1817),(1981,1983),(1992,1996)]"
   ]
  },
  {
   "cell_type": "markdown",
   "id": "d1ae25f7",
   "metadata": {},
   "source": [
    "### Read data"
   ]
  },
  {
   "cell_type": "code",
   "execution_count": 765,
   "id": "bbf4ddcc",
   "metadata": {},
   "outputs": [],
   "source": [
    "class PreProcesser:\n",
    "    label_encoder=None\n",
    "\n",
    "    def __init__(self,path,ignore_labels=False):\n",
    "        raw_df=pd.read_csv(path)\n",
    "        self.users=raw_df[\"user\"].tolist()\n",
    "        self.features=self.translate_tweet(raw_df[\"tweet\"])\n",
    "        if ignore_labels:\n",
    "            self.labels=raw_df[\"region\"].tolist()\n",
    "        else:\n",
    "            if PreProcesser.label_encoder==None:\n",
    "                PreProcesser.label_encoder=pre_processing.LabelEncoder()\n",
    "                self.labels=PreProcesser.label_encoder.fit_transform(raw_df[\"region\"].tolist()).tolist()\n",
    "            else:\n",
    "                self.labels=PreProcesser.label_encoder.transform(raw_df[\"region\"].tolist()).tolist()\n",
    "        self.manual_select_list=None\n",
    "        self.merged_users=None\n",
    "        self.merged_features=None\n",
    "        self.merged_labels=None\n",
    "            \n",
    "    def translate_tweet(self,raw_str_list):\n",
    "        def translate_one_tweet(raw_str):\n",
    "            tmp0=re.compile(r'\\d+,').findall(raw_str)\n",
    "            tmp1=re.compile(r'(-?\\d+\\.\\d+)').findall(raw_str)\n",
    "            res=[]\n",
    "            for iter in range(len(tmp1)):\n",
    "                res.append((int(tmp0[iter][:-1]),float(tmp1[iter])))\n",
    "            return res\n",
    "        \n",
    "        def convert_to_dense(sparse_list):\n",
    "            res=[0]*MAX_WORDS\n",
    "            for iter in sparse_list:\n",
    "                if iter[0]<MAX_WORDS:\n",
    "                    res[iter[0]]=res[iter[0]]+iter[1]\n",
    "            return res\n",
    "        \n",
    "        tweets=[]\n",
    "        for iter in raw_str_list:\n",
    "            raw_res=translate_one_tweet(iter)\n",
    "            tweets.append(convert_to_dense(raw_res))\n",
    "            #tweets.append(raw_res)\n",
    "        return tweets\n",
    "    \n",
    "    def merge_results(self,labels,users):\n",
    "        res=[]\n",
    "        user_list=list(set(users))\n",
    "        user_dict=dict(zip(user_list,[[] for iter in range(len(user_list))]))\n",
    "        for user,label in zip(users,labels):\n",
    "            user_dict[user].append(label)\n",
    "        for user in user_list:\n",
    "            res.append(Counter(user_dict[user]).most_common(1)[0][0])\n",
    "        return res\n",
    "    \n",
    "    def unify_results(self,labels,users):\n",
    "        unify_res=self.merge_results(labels,users)\n",
    "        user_count=Counter(users)\n",
    "        res=[]\n",
    "        for label,number in zip(unify_res,user_count.values()):\n",
    "            res=(res+[label]*number)\n",
    "        #user_dict=dict(zip(list(set(users)),unify_res))\n",
    "        #res=[user_dict[users[iter]] for iter in users]\n",
    "        return res\n",
    "    \n",
    "    def merge_data(self,tweets,users,unify=\"user_num\"):\n",
    "        #adapts to number feature only\n",
    "        #unify=\"user_num\"->generate a mixed feature \n",
    "        #unify=\"one\"->unify to one \n",
    "        res=[]\n",
    "        user_list=list(set(users))\n",
    "        user_dict=dict(zip(user_list,[[] for iter in range(len(user_list))]))\n",
    "        for user,label in zip(users,tweets):\n",
    "            user_dict[user].append(label)\n",
    "        for user in user_list:\n",
    "            tmpList=user_dict[user]\n",
    "            tmp=np.mat(tmpList[0])\n",
    "            for iter in range(1,len(tmpList)):\n",
    "                tmp=tmp+np.mat(tmpList[iter])\n",
    "            if unify==\"user_num\":\n",
    "                tmp=tmp/len(tmpList)\n",
    "            else:\n",
    "                tmp=tmp/tmp.sum()\n",
    "            res.append(tmp.tolist()[0])\n",
    "        return res\n",
    "    \n",
    "    def get_merged_data(self):\n",
    "        if self.merged_users==None:\n",
    "            self.merged_features=self.merge_data(self.features,self.users)\n",
    "            self.merged_labels=self.merge_results(self.labels,self.users)\n",
    "            self.merged_users=list(set(self.users))\n",
    "            \n",
    "    def part_feature(self,loc=0,fold=1):\n",
    "        cur_len=int(len(self.features)/fold)\n",
    "        return self.features[loc*cur_len:(loc+1)*cur_len]\n",
    "    \n",
    "    def part_label(self,loc=0,fold=1):\n",
    "        cur_len=int(len(self.labels)/fold)\n",
    "        return self.labels[loc*cur_len:(loc+1)*cur_len]"
   ]
  },
  {
   "cell_type": "code",
   "execution_count": 766,
   "id": "d8c627dd",
   "metadata": {},
   "outputs": [],
   "source": [
    "train_count=PreProcesser(r\"C:\\Users\\Lenovo\\Desktop\\course codes\\AI\\ass3\\data\\train_count.csv\")\n",
    "dev_count=PreProcesser(r\"C:\\Users\\Lenovo\\Desktop\\course codes\\AI\\ass3\\data\\dev_count.csv\")\n",
    "train_count.get_merged_data()\n",
    "dev_count.get_merged_data()"
   ]
  },
  {
   "cell_type": "markdown",
   "id": "b17001d5",
   "metadata": {},
   "source": [
    "### Feature observation and selection"
   ]
  },
  {
   "cell_type": "code",
   "execution_count": 767,
   "id": "7bbd2212",
   "metadata": {},
   "outputs": [],
   "source": [
    "from sklearn.feature_selection import SelectKBest, chi2, mutual_info_classif\n",
    "import matplotlib as plt\n",
    "from sklearn.decomposition import PCA\n",
    "from sklearn.decomposition import KernelPCA\n",
    "import matplotlib.pyplot as plt\n",
    "from mpl_toolkits.mplot3d import Axes3D\n",
    "from sklearn.feature_extraction.text import TfidfTransformer\n",
    "from sklearn.metrics import precision_recall_curve,classification_report\n",
    "from xgboost import plot_importance\n",
    "from sklearn.feature_selection import SelectFromModel\n",
    "from numpy import sort\n",
    "\n",
    "from mlxtend.feature_selection import ColumnSelector\n",
    "from sklearn.pipeline import make_pipeline"
   ]
  },
  {
   "cell_type": "code",
   "execution_count": 92,
   "id": "62329371",
   "metadata": {},
   "outputs": [
    {
     "name": "stdout",
     "output_type": "stream",
     "text": [
      "Counter({1: 1409, 2: 1379, 3: 482, 0: 430})\n"
     ]
    },
    {
     "data": {
      "image/png": "[encoded data removed]",
      "text/plain": [
       "<Figure size 432x288 with 1 Axes>"
      ]
     },
     "metadata": {
      "needs_background": "light"
     },
     "output_type": "display_data"
    }
   ],
   "source": [
    "def view_from(users,labels):\n",
    "    dic={0:{},1:{},2:{},3:{}}\n",
    "    for usr,loc in zip(users,labels):\n",
    "        if usr not in dic[loc]:\n",
    "            dic[loc][usr]=1\n",
    "        else:\n",
    "            dic[loc][usr]=dic[loc][usr]+1\n",
    "    for iter in [0,1,2,3]:\n",
    "        tmpList=list(dic[iter].values())\n",
    "        dic[iter]=sorted(Counter(tmpList).items(),key=lambda x:x[0])\n",
    "    return dic\n",
    "def bin_view(dic,binLabel):\n",
    "    binList=binLabel#[20,40,60,80,100,120,140,500]\n",
    "    resList=[]\n",
    "    for iter in dic.values():\n",
    "        binDic=dict(zip(binList,[0]*len(binList)))\n",
    "        for item in iter:\n",
    "            for loc in binList:\n",
    "                if item[0]<loc:\n",
    "                    binDic[loc]=binDic[loc]+item[1]\n",
    "                    break\n",
    "        resList.append(list(binDic.values()))\n",
    "    return resList\n",
    "#地区用户频率[430,1409,1379,482]\n",
    "#用户推特频率[82, 2377, 726, 282, 115, 58, 35, 25]\n",
    "print(Counter(train_count.merged_labels+dev_count.merged_labels))\n",
    "locRes=view_from(train_count.users+dev_count.users,train_count.labels+dev_count.labels)\n",
    "binList=bin_view(locRes,[20,40,60,80,100,1200])\n",
    "x_labels=binList\n",
    "y_labels = [20,40,60,80,100,120]\n",
    "item_labels=dev_count.label_encoder.inverse_transform([0,1,2,3])\n",
    "rects=[plt.bar(x=[loc+4*iter for loc in y_labels], height=x_labels[iter],\\\n",
    "               width=4, alpha=0.8, label=item_labels[iter]) for iter in range(len(item_labels))]\n",
    "plt.xlabel(\"number of tweets send by users\")\n",
    "plt.ylabel(\"nuber of users\")\n",
    "plt.title(\"the bar graph of tweet number sending by users\")\n",
    "plt.legend()\n",
    "plt.show()"
   ]
  },
  {
   "cell_type": "code",
   "execution_count": 524,
   "id": "e71a9f4c",
   "metadata": {},
   "outputs": [],
   "source": [
    "word_dict={}\n",
    "with open(r\"C:\\Users\\Lenovo\\Desktop\\course codes\\AI\\ass3\\data\\vocab.txt\",\"r\") as f:   \n",
    "    for userline in f:\n",
    "        userlint=userline[:-1]\n",
    "        tmp=userline.split('\\t')\n",
    "        word_dict[int(tmp[1][:-1])]=tmp[0]\n",
    "\n",
    "def explain_feature(support):\n",
    "    res=[]\n",
    "    for iter in support:\n",
    "        res.append(word_dict[iter])\n",
    "    return res\n",
    "\n",
    "def show_feature(bf):\n",
    "    supports=explain_feature(list(bf.get_support(indices=True)))\n",
    "    print(\"features_selected=\"+str(supports))\n",
    "    y_plots=sorted(bf.scores_,reverse = True)\n",
    "    x_plots=list(range(len(y_plots)))\n",
    "    plt.plot(x_plots,y_plots)\n",
    "    plt.title(str(bf).split(\" at\")[0].split(\"<function \")[1])\n",
    "    plt.show()"
   ]
  },
  {
   "cell_type": "code",
   "execution_count": 103,
   "id": "a8e36de9",
   "metadata": {},
   "outputs": [],
   "source": [
    "def filter_feature_trival(measure,x_train,x_label,k_best):#measure=chi2 OR mutual_info_classif\n",
    "    return SelectKBest(score_func=measure, k=k_best).fit(x_train,x_label)\n",
    "\n",
    "def merge_features(fea_list,k_best=None,n_common=None,outList=True):\n",
    "    tmp=[]\n",
    "    res=[]\n",
    "    for iter in fea_list:\n",
    "        tmp=tmp+iter\n",
    "    if n_common==None:\n",
    "        res=Counter(tmp).most_common(k_best)\n",
    "    else:\n",
    "        tmp=list(dict(Counter(tmp)).items())\n",
    "        tmp=sorted(tmp,reverse = True,key=lambda x:x[1])\n",
    "        res=[]\n",
    "        for iter in tmp:\n",
    "            if iter[1]>=n_common:\n",
    "                res.append(iter)\n",
    "            else:\n",
    "                break\n",
    "    if outList:\n",
    "        res=[x[0] for x in res]\n",
    "    return res\n",
    "\n",
    "def tfx(data,weight=None):\n",
    "    res=[]\n",
    "    if weight==None:\n",
    "        return TfidfTransformer().fit_transform(data).todense().tolist()\n",
    "    weightMat=np.array(weight)\n",
    "    for iter in data:\n",
    "        res.append((np.array(iter)*weightMat).tolist())\n",
    "    return res"
   ]
  },
  {
   "cell_type": "code",
   "execution_count": 485,
   "id": "d084a399",
   "metadata": {},
   "outputs": [
    {
     "data": {
      "text/plain": [
       "'\\nmanu=ManualSelect()\\nmanu.set_para(len(dev_count.merged_features),manual_del_list,manual_merge_list)\\ntrain_c=manu.transform(train_count.merged_features)\\ntest_c=manu.transform(dev_count.merged_features)\\n'"
      ]
     },
     "execution_count": 485,
     "metadata": {},
     "output_type": "execute_result"
    }
   ],
   "source": [
    "bf_chi2=filter_feature_trival(chi2,train_count.merged_features,train_count.merged_labels,1000)\n",
    "bf_mi=filter_feature_trival(mutual_info_classif,train_count.merged_features,train_count.merged_labels,1000)\n",
    "train_x_chi2=tfx(train_count.merged_features,bf_chi2.scores_.tolist())\n",
    "test_x_chi2=tfx(dev_count.merged_features,bf_chi2.scores_.tolist())\n",
    "train_x_mi=tfx(train_count.merged_features,bf_mi.scores_.tolist())\n",
    "train_x_mi=tfx(train_count.merged_features,bf_mi.scores_.tolist())\n",
    "train_ktop_mi=bf_mi.transform(train_count.merged_features)\n",
    "train_ktop_chi2=bf_chi2.transform(train_count.merged_features)\n",
    "dev_ktop_mi=bf_mi.transform(dev_count.merged_features)\n",
    "dev_ktop_chi2=bf_chi2.transform(dev_count.merged_features)\n",
    "manu=ManualSelect()\n",
    "manu.set_para(len(dev_count.merged_features),manual_del_list,manual_merge_list)\n",
    "train_c=manu.transform(train_count.merged_features)\n",
    "test_c=manu.transform(dev_count.merged_features)\n"
   ]
  },
  {
   "cell_type": "code",
   "execution_count": null,
   "id": "2af8112b",
   "metadata": {},
   "outputs": [],
   "source": [
    "feature_sets=set([])\n",
    "for iter in range(10):\n",
    "    model_xgb.fit(np.mat(train_count.merged_features),train_count.merged_labels)\n",
    "    thresholds = model_xgb.feature_importances_\n",
    "    tmp=get_important_feature(thresholds,False,True)\n",
    "    feature_sets=feature_sets|set(tmp)\n",
    "print(\"feature set length=\"+len(feature_sets))\n",
    "#train_count_xgb=np.mat(train_count.merged_features)[:,list(feature_sets)]\n",
    "#dev_count_xgb=np.mat(dev_count.merged_features)[:,list(feature_sets)]\n",
    "bf_chi2=filter_feature_trival(chi2,train_count.merged_features,train_count.merged_labels,665)\n",
    "bf_features=bf_chi2.get_support(True)\n",
    "selected_2=list(feature_sets|set(bf_features))\n",
    "train_count_xgb2=np.mat(train_count.merged_features)[:,list(selected_2)]\n",
    "dev_count_xgb2=np.mat(dev_count.merged_features)[:,list(selected_2)]"
   ]
  },
  {
   "cell_type": "code",
   "execution_count": 516,
   "id": "b6e6d3e3",
   "metadata": {},
   "outputs": [],
   "source": [
    "def get_important_feature(weights,with_weight=False,filter_zeros=False):\n",
    "    weight_tuples=sorted([(iter,weights[iter]) for iter in range(len(weights))],reverse=True,key=lambda x:x[1])\n",
    "    if filter_zeros:\n",
    "        loc=0\n",
    "        for iter in range(len(weight_tuples)):\n",
    "            if weight_tuples[iter][1]>0:\n",
    "                loc=iter\n",
    "            else:\n",
    "                break;\n",
    "        weight_tuples=weight_tuples[:loc]\n",
    "    if with_weight==True:\n",
    "        return weight_tuples\n",
    "    important_features=[iter[0] for iter in weight_tuples]\n",
    "    return important_features\n",
    "        "
   ]
  },
  {
   "cell_type": "code",
   "execution_count": 554,
   "id": "d2b8903f",
   "metadata": {},
   "outputs": [
    {
     "data": {
      "text/plain": [
       "['lmaoo',\n",
       " '#inhighschool',\n",
       " 'lml',\n",
       " 'deadass',\n",
       " 'wassup',\n",
       " 'lls',\n",
       " 'lmaooo',\n",
       " 'iight',\n",
       " 'od',\n",
       " 'fuckin',\n",
       " 'smfh',\n",
       " 'chicago',\n",
       " 'haha',\n",
       " 'brooklyn',\n",
       " 'bomb',\n",
       " 'asleep',\n",
       " 'cali',\n",
       " 'yoo',\n",
       " 'en',\n",
       " 'game',\n",
       " 'madd',\n",
       " 'lmfaoooo',\n",
       " 'atl',\n",
       " 'silly',\n",
       " 'skool',\n",
       " 'mama',\n",
       " 'miami',\n",
       " 'bbm',\n",
       " 'hella',\n",
       " 'lmfaoo',\n",
       " 'bell',\n",
       " 'ight',\n",
       " 'moving',\n",
       " 'win',\n",
       " \"who's\",\n",
       " 'hahaha',\n",
       " 'especially',\n",
       " 'simple',\n",
       " 'mad',\n",
       " 'yooo',\n",
       " 'american',\n",
       " 'atlanta',\n",
       " 'hair',\n",
       " 'dc',\n",
       " 'tour',\n",
       " 'swag',\n",
       " 'came',\n",
       " 'winter',\n",
       " 'di',\n",
       " 'spring',\n",
       " 'florida',\n",
       " 'ya',\n",
       " '#tweetsidgafabout',\n",
       " '<3',\n",
       " 'harlem',\n",
       " 'minutes',\n",
       " 'la',\n",
       " 'yep',\n",
       " 'test',\n",
       " 'fell',\n",
       " 'dunno',\n",
       " 'lmbo',\n",
       " 'philly',\n",
       " '#imjustsayin',\n",
       " 'wat',\n",
       " 'eggs',\n",
       " 'queens',\n",
       " '<--',\n",
       " 'john',\n",
       " 'dead',\n",
       " 'fun',\n",
       " 'thirsty',\n",
       " 'sigh',\n",
       " 'sir',\n",
       " 'ish',\n",
       " 'break',\n",
       " 'slap',\n",
       " 'nyc',\n",
       " 'air',\n",
       " '#thatisall',\n",
       " 'possible',\n",
       " 'life',\n",
       " ':d',\n",
       " 'loved',\n",
       " 'hell',\n",
       " 'kinda',\n",
       " 'famu',\n",
       " 'vegas',\n",
       " '<---',\n",
       " 'places',\n",
       " 'rain',\n",
       " 'aye',\n",
       " 'oovoo',\n",
       " 'supposed',\n",
       " 'train',\n",
       " '15',\n",
       " 'ga',\n",
       " 'finna',\n",
       " 'lebron',\n",
       " '. . .',\n",
       " 'chance',\n",
       " 'spanish',\n",
       " 'trust',\n",
       " 'sell',\n",
       " 'brain',\n",
       " ':-)',\n",
       " 'wyd',\n",
       " 'hoping',\n",
       " 'pandora',\n",
       " 'bk',\n",
       " 'werd',\n",
       " '#shoutout',\n",
       " 'dang',\n",
       " 'luck',\n",
       " 'lmfao',\n",
       " 'hes',\n",
       " 'bet',\n",
       " 'ticket',\n",
       " '!',\n",
       " 'naw',\n",
       " 'bunch',\n",
       " 'use',\n",
       " 'folks',\n",
       " 'ring',\n",
       " 'turned',\n",
       " 'coo',\n",
       " 'walk',\n",
       " 'workout',\n",
       " 'card',\n",
       " 'idol',\n",
       " 'ghetto',\n",
       " 'birthday',\n",
       " 'size',\n",
       " 'f',\n",
       " 'bus',\n",
       " 'blessed',\n",
       " 'heck',\n",
       " 'gone',\n",
       " 'son',\n",
       " 'hoe',\n",
       " 'girl',\n",
       " 'handle',\n",
       " 'tt',\n",
       " 'mane',\n",
       " 'fa',\n",
       " 'nuttin',\n",
       " 'block',\n",
       " 'likes',\n",
       " 'dam',\n",
       " 'dance',\n",
       " 'police',\n",
       " 'jersey',\n",
       " 'quit',\n",
       " 'trying',\n",
       " '#fact',\n",
       " 'yall',\n",
       " 'appreciate',\n",
       " 'hang',\n",
       " 'omw',\n",
       " 'joint',\n",
       " 'y',\n",
       " 'truly',\n",
       " 'extra',\n",
       " 'ooo',\n",
       " 'avatar',\n",
       " '#icheatedbecause',\n",
       " 'walked',\n",
       " 'thanx',\n",
       " 'line',\n",
       " 'dogs',\n",
       " 'account',\n",
       " '@user_0e9a8962',\n",
       " 'second',\n",
       " 'heard',\n",
       " 'c',\n",
       " 'coffee',\n",
       " 'texas',\n",
       " 'breath',\n",
       " 'guys',\n",
       " '#smh',\n",
       " 'studio',\n",
       " 'knw',\n",
       " 'fuckn',\n",
       " '->',\n",
       " 'doin',\n",
       " 'warm',\n",
       " 'bitch',\n",
       " 'ii',\n",
       " 'guess',\n",
       " 'bro',\n",
       " 'lots',\n",
       " 'rest',\n",
       " 'va',\n",
       " 'swear',\n",
       " 'gunna',\n",
       " 'choose',\n",
       " 'close',\n",
       " 'real',\n",
       " 'changed',\n",
       " '聬',\n",
       " 'means',\n",
       " \"ma'am\",\n",
       " 'question',\n",
       " 'list',\n",
       " 'looks',\n",
       " '--->',\n",
       " 'season',\n",
       " 'o_o',\n",
       " 'gym',\n",
       " 'alice',\n",
       " 'gas',\n",
       " ':(',\n",
       " 'chillen',\n",
       " '#whatwouldyourather',\n",
       " 'hahahaha',\n",
       " ':-(',\n",
       " 'wonderland',\n",
       " 'mr',\n",
       " 'men',\n",
       " 'brotha',\n",
       " 'event',\n",
       " 'lookin',\n",
       " 'tryna',\n",
       " 'taste',\n",
       " \"i'd\",\n",
       " 'vote',\n",
       " 'jk',\n",
       " 'nice',\n",
       " 'moms',\n",
       " \"she's\",\n",
       " 'sh',\n",
       " 'uh',\n",
       " 'legs',\n",
       " 'picture',\n",
       " 'ham',\n",
       " 'cheese',\n",
       " 'hahahahaha',\n",
       " 'dear',\n",
       " 'yuh',\n",
       " 'grown',\n",
       " 'thas',\n",
       " 'liquor',\n",
       " 'fool',\n",
       " 'fucking',\n",
       " 'book',\n",
       " ':/',\n",
       " 'color',\n",
       " 'ave',\n",
       " 'started',\n",
       " 'tuesday',\n",
       " 'send',\n",
       " 'w',\n",
       " 'did',\n",
       " 'history',\n",
       " 'ah',\n",
       " 'dis',\n",
       " 'pick',\n",
       " 'huh',\n",
       " 'pow',\n",
       " 'church',\n",
       " 'tired',\n",
       " 'blood',\n",
       " 'family',\n",
       " 'place',\n",
       " 'voice',\n",
       " 'trippin',\n",
       " 'thx',\n",
       " 'weekend',\n",
       " 'somebody',\n",
       " 'hold',\n",
       " 'hours',\n",
       " 'sho',\n",
       " 'attention',\n",
       " '...',\n",
       " 'killed',\n",
       " 'thank',\n",
       " '陇',\n",
       " 'laugh',\n",
       " 'cool',\n",
       " 'kid',\n",
       " 'bout',\n",
       " 'able',\n",
       " 'said',\n",
       " 'bathroom',\n",
       " '<',\n",
       " 'dr',\n",
       " 'youtube',\n",
       " 'paying',\n",
       " 'library',\n",
       " 'gonna',\n",
       " 'chillin',\n",
       " 'job',\n",
       " \"it's\",\n",
       " 'jail',\n",
       " 'yup',\n",
       " 'pls',\n",
       " 'late',\n",
       " 'shes',\n",
       " ':p',\n",
       " ';)',\n",
       " '7',\n",
       " 'smoke',\n",
       " 'phone',\n",
       " 'house',\n",
       " 'daddy',\n",
       " 'shout',\n",
       " 'easy',\n",
       " 'e',\n",
       " 'evil',\n",
       " 'drama',\n",
       " ':',\n",
       " 'dinner',\n",
       " 'cause',\n",
       " 'wave',\n",
       " 'nah',\n",
       " '20',\n",
       " 'fb',\n",
       " '5',\n",
       " 'abt',\n",
       " 'lord',\n",
       " 'fine',\n",
       " \"couldn't\",\n",
       " 'hate',\n",
       " 'doesnt',\n",
       " 'hot',\n",
       " 'leave',\n",
       " 'beat',\n",
       " 'hat',\n",
       " 'brother',\n",
       " 'fml',\n",
       " 'far',\n",
       " 'somethin',\n",
       " 'tha',\n",
       " 'smh',\n",
       " 'app',\n",
       " '禄',\n",
       " 'man',\n",
       " 'center',\n",
       " \"where's\",\n",
       " 'sup',\n",
       " 'hoes',\n",
       " 'babies',\n",
       " 'tomorrow',\n",
       " 'talk',\n",
       " 'hahah',\n",
       " 'x',\n",
       " 'drunk',\n",
       " 'ma',\n",
       " ':)',\n",
       " 'b',\n",
       " 'sounds',\n",
       " 'o',\n",
       " ',',\n",
       " 'half',\n",
       " 'dope',\n",
       " 'care',\n",
       " 'different',\n",
       " 'story',\n",
       " 'aww',\n",
       " 'woman',\n",
       " 'period',\n",
       " '#np',\n",
       " 'help',\n",
       " 'days',\n",
       " 'ummm',\n",
       " 'eat',\n",
       " 'tweeting',\n",
       " 'know',\n",
       " 'justin',\n",
       " 'deep',\n",
       " 'bitches',\n",
       " 'yo',\n",
       " 'stay',\n",
       " 'just',\n",
       " 'city',\n",
       " 'credit',\n",
       " 'toooo',\n",
       " 'tweetin',\n",
       " '#twitterafterdark',\n",
       " 'copy',\n",
       " \"that's\",\n",
       " \"ain't\",\n",
       " 'broke',\n",
       " 'lets',\n",
       " 'def',\n",
       " 'coming',\n",
       " 'bad',\n",
       " 'dream',\n",
       " 'shame',\n",
       " 'wrong',\n",
       " 'threw',\n",
       " 'fight',\n",
       " 'turn',\n",
       " 'feelings',\n",
       " 'times',\n",
       " 'way',\n",
       " 'fucked',\n",
       " 'download',\n",
       " 'yesterday',\n",
       " 'stick',\n",
       " 'orange',\n",
       " 'busy',\n",
       " 'n',\n",
       " 'eff',\n",
       " 'thinking',\n",
       " 'thee',\n",
       " 'deal',\n",
       " 'yur',\n",
       " 'm',\n",
       " 'tear',\n",
       " '(',\n",
       " \"didn't\",\n",
       " 'straight',\n",
       " 'ohhh',\n",
       " 'feel',\n",
       " \"won't\",\n",
       " 'wearing',\n",
       " 'lmaoooo',\n",
       " 'sexy',\n",
       " 'ready',\n",
       " '@',\n",
       " 'maybe',\n",
       " 'tweet',\n",
       " 'ride',\n",
       " 'shit',\n",
       " 'forget',\n",
       " 'tryin',\n",
       " 'doing',\n",
       " 'd',\n",
       " 'ladies',\n",
       " 'forgot',\n",
       " 'bf',\n",
       " 'da',\n",
       " '掳',\n",
       " 'weird',\n",
       " 'haters',\n",
       " 'shyt',\n",
       " 'rice',\n",
       " 'area',\n",
       " 'cute',\n",
       " 'yes',\n",
       " 'miss',\n",
       " 'cell',\n",
       " 'saying',\n",
       " 'office',\n",
       " 'yeah',\n",
       " \"there's\",\n",
       " 'gift',\n",
       " 'ny',\n",
       " 'today',\n",
       " 'wanted',\n",
       " 'want',\n",
       " 'dat',\n",
       " 'special',\n",
       " 'wonder',\n",
       " 'hurt',\n",
       " 'jeezy',\n",
       " \"you've\",\n",
       " 'confused',\n",
       " 'momma',\n",
       " 'write',\n",
       " 'bit',\n",
       " 'pissed',\n",
       " 'drinkin',\n",
       " 'neva',\n",
       " 'damn',\n",
       " 'love',\n",
       " 'shits',\n",
       " 'fresh',\n",
       " 'count',\n",
       " 'pray',\n",
       " 'soooo',\n",
       " 'small',\n",
       " '. .',\n",
       " 'boo',\n",
       " 'study',\n",
       " 'say',\n",
       " 'lives',\n",
       " 'working',\n",
       " 'taylor',\n",
       " 'follow',\n",
       " 'ur',\n",
       " 'drinks',\n",
       " 'end',\n",
       " 'home',\n",
       " 'save',\n",
       " '10',\n",
       " 'soon',\n",
       " 'called',\n",
       " '_',\n",
       " 'hungry',\n",
       " 'make',\n",
       " 'following',\n",
       " '聵',\n",
       " 'alot',\n",
       " 'refuse',\n",
       " \"wasn't\",\n",
       " 'flow',\n",
       " 'mind',\n",
       " 'skype',\n",
       " 'dress',\n",
       " 'agreed',\n",
       " 'taking',\n",
       " 'prolly',\n",
       " '=',\n",
       " 'tho',\n",
       " '漏',\n",
       " 'lay',\n",
       " 'soo',\n",
       " 'saw',\n",
       " 'tonight',\n",
       " 'ran',\n",
       " \"how's\",\n",
       " 'shoot',\n",
       " 'drink',\n",
       " 'laying',\n",
       " 'women',\n",
       " '.',\n",
       " 'really',\n",
       " \"doesn't\",\n",
       " 'row',\n",
       " \"'\",\n",
       " 'time',\n",
       " 'pop',\n",
       " 'hand',\n",
       " 'lmmfao',\n",
       " 'bank',\n",
       " \"don't\",\n",
       " 'head',\n",
       " 'ima',\n",
       " \"i'm\",\n",
       " 'watch',\n",
       " 'excuse',\n",
       " 'note',\n",
       " 'body',\n",
       " 'sure',\n",
       " 'party',\n",
       " 'missed',\n",
       " '2',\n",
       " '*',\n",
       " 'forward',\n",
       " 'remember',\n",
       " 'okay',\n",
       " 'tweeps',\n",
       " 'ones',\n",
       " '?',\n",
       " 'going',\n",
       " '&',\n",
       " 'waka',\n",
       " 'weak',\n",
       " 'boy',\n",
       " 'right',\n",
       " 'interesting',\n",
       " 'seat',\n",
       " 'lo',\n",
       " '\"',\n",
       " 'im',\n",
       " 'young',\n",
       " 'singing',\n",
       " 'wit',\n",
       " 'suck',\n",
       " 'yea',\n",
       " 'leaving',\n",
       " 'lol',\n",
       " 'check',\n",
       " 'white',\n",
       " 'rite',\n",
       " 'shoes',\n",
       " 'lmao',\n",
       " 'giving',\n",
       " 'twitter',\n",
       " 'told',\n",
       " 'bottle',\n",
       " 'listening',\n",
       " '$',\n",
       " 'lil',\n",
       " 'hit',\n",
       " 'lady',\n",
       " 'number',\n",
       " 'like',\n",
       " '-',\n",
       " 'gettn',\n",
       " 'night',\n",
       " 'old',\n",
       " 'breakfast',\n",
       " 'spend',\n",
       " 'dude',\n",
       " 'radio',\n",
       " 'run',\n",
       " 'beyonce',\n",
       " 'tweets',\n",
       " 'ill',\n",
       " '..',\n",
       " 'watching',\n",
       " \"can't\",\n",
       " 'stuff',\n",
       " 'seriously',\n",
       " 'wtf',\n",
       " 'mean',\n",
       " 'crazy',\n",
       " 'nigga',\n",
       " 'teacher',\n",
       " ';-)',\n",
       " 'lie',\n",
       " 'knew',\n",
       " '#letsbereal',\n",
       " 'shows',\n",
       " 'games',\n",
       " '#ff',\n",
       " 'hey',\n",
       " 'day',\n",
       " 'matter',\n",
       " 's',\n",
       " 'look',\n",
       " 'lot',\n",
       " 'aint',\n",
       " 'ok',\n",
       " 'word',\n",
       " 'butter',\n",
       " '3',\n",
       " 'sorry',\n",
       " 'names',\n",
       " 'gets',\n",
       " 'best',\n",
       " 'hard',\n",
       " 'lose',\n",
       " 'things',\n",
       " '=)',\n",
       " 'pizza',\n",
       " '#nowplaying',\n",
       " 'making',\n",
       " 'hurts',\n",
       " 'rt',\n",
       " 'pants',\n",
       " '/',\n",
       " 'girls',\n",
       " ')',\n",
       " 'amazing',\n",
       " 'stop',\n",
       " 'friend',\n",
       " 'goin',\n",
       " 'morning',\n",
       " 'song',\n",
       " 'school',\n",
       " 'getting',\n",
       " 'hearing',\n",
       " '}',\n",
       " 'week',\n",
       " 'sleep',\n",
       " 'u',\n",
       " 'true',\n",
       " 'ass',\n",
       " 'got',\n",
       " 'good',\n",
       " 'people',\n",
       " 'kool',\n",
       " 'movie',\n",
       " '4',\n",
       " 'need',\n",
       " '芦',\n",
       " \"we're\",\n",
       " 'listen',\n",
       " 'big',\n",
       " 'let',\n",
       " '6',\n",
       " 'mixtape',\n",
       " 'world',\n",
       " 'money',\n",
       " \"you're\",\n",
       " \"i've\",\n",
       " 'great',\n",
       " 'sum',\n",
       " 'change',\n",
       " \"he's\",\n",
       " 'frm',\n",
       " 'g',\n",
       " 'cuz',\n",
       " 'having',\n",
       " '1',\n",
       " 'early',\n",
       " 'friday',\n",
       " 'plz',\n",
       " 'wanna',\n",
       " 'exactly',\n",
       " 'sister',\n",
       " 'long',\n",
       " 'friends',\n",
       " 'oh',\n",
       " 'em',\n",
       " 'dm',\n",
       " 'used',\n",
       " 'think',\n",
       " 'needed',\n",
       " 'poppin',\n",
       " 'better',\n",
       " 'fuck',\n",
       " '8',\n",
       " 'r',\n",
       " 'dont',\n",
       " 'food',\n",
       " 'tell',\n",
       " 'buy',\n",
       " 'treat',\n",
       " 'funny',\n",
       " 'black',\n",
       " 'wish',\n",
       " ';',\n",
       " 'finally',\n",
       " 'gotta',\n",
       " 'homie',\n",
       " 'class',\n",
       " '聶',\n",
       " '#random',\n",
       " 'hear',\n",
       " 'new',\n",
       " 'thing']"
      ]
     },
     "execution_count": 554,
     "metadata": {},
     "output_type": "execute_result"
    }
   ],
   "source": [
    "#features selected by xgboost\n",
    "explain_feature(get_important_feature(thresholds,False,True))"
   ]
  },
  {
   "cell_type": "code",
   "execution_count": 550,
   "id": "25df68de",
   "metadata": {
    "scrolled": false
   },
   "outputs": [
    {
     "data": {
      "image/png": "[encoded data removed]",
      "text/plain": [
       "<Figure size 1080x1080 with 1 Axes>"
      ]
     },
     "metadata": {
      "needs_background": "light"
     },
     "output_type": "display_data"
    }
   ],
   "source": [
    "fig,ax = plt.subplots(figsize=(15,15))\n",
    "plot_importance(model_xgb,height=0.5,ax=ax,max_num_features=10)\n",
    "plt.show()"
   ]
  },
  {
   "cell_type": "code",
   "execution_count": 729,
   "id": "320e457d",
   "metadata": {},
   "outputs": [],
   "source": [
    "class ManualSelect:\n",
    "    def __init__(self):\n",
    "        self.convertList=None\n",
    "        self.reverseList=None\n",
    "    \n",
    "    def generate_manual_select_list(self,dataLen,deleteList,mergeList):\n",
    "        tmp=[]\n",
    "        res=[]\n",
    "        for iter in deleteList:\n",
    "            tmp.append([iter[0],iter[1],'d'])\n",
    "        for iter in mergeList:\n",
    "            tmp.append([iter[0],iter[1],'m'])\n",
    "        tmp=sorted(tmp,key=lambda x:x[0])\n",
    "        \n",
    "        cur_start=0\n",
    "        cur_end=dataLen\n",
    "        for iter in tmp:\n",
    "            if iter[0]>cur_start:\n",
    "                res.append([cur_start,iter[0],'r'])\n",
    "            cur_start=iter[1]\n",
    "            res.append(iter)\n",
    "        if tmp[-1][1]<cur_end-1:\n",
    "            res.append([tmp[-1][1],cur_end-1,'r'])\n",
    "        \n",
    "        cur_offset=0\n",
    "        reverse=[]\n",
    "        for iter in res:\n",
    "            if iter[2]=='r':\n",
    "                reverse.append([[iter[0]-cur_offset,iter[1]-cur_offset],'r',cur_offset])\n",
    "            elif iter[2]=='d':\n",
    "                cur_offset=cur_offset+(iter[1]-iter[0])\n",
    "            else:\n",
    "                cur_offset=cur_offset+(iter[1]-iter[0])\n",
    "                reverse.append([[iter[1]-cur_offset,iter[1]-cur_offset+1],'m',int((iter[1]+iter[0])/2)])\n",
    "                cur_offset=cur_offset-1\n",
    "        \n",
    "        return res,reverse\n",
    "\n",
    "    def manual_select(self,data,manual_list):\n",
    "        data_mat=np.mat(data)\n",
    "        new_mat_list=[]\n",
    "        for iter in manual_list:\n",
    "            tmp=None\n",
    "            if iter[2]=='r':\n",
    "                tmp=data_mat[:,iter[0]:iter[1]]\n",
    "            elif iter[2]=='m':\n",
    "                tmp=data_mat[:,iter[0]:iter[1]].sum(axis=1)\n",
    "            else:\n",
    "                continue\n",
    "            new_mat_list.append(tmp)\n",
    "        new_mat=np.hstack(new_mat_list)\n",
    "        return new_mat.tolist()\n",
    "    \n",
    "    def reverse_translate(self,reverseList,loc):\n",
    "        #ruturn origin loc\n",
    "        curInterval=[]\n",
    "        for iter in reverseList:\n",
    "            if iter[0][1]>loc:\n",
    "                curInterval=iter\n",
    "                break\n",
    "        if curInterval[1]=='r':\n",
    "            return loc+curInterval[2]\n",
    "        else:\n",
    "            return curInterval[2]\n",
    "        \n",
    "    def set_para(self,dataLen,deleteList,mergeList):\n",
    "        self.convertList,self.reverseList=self.generate_manual_select_list(dataLen,deleteList,mergeList)\n",
    "        \n",
    "    def transform(self,data):\n",
    "        return self.manual_select(data,self.convertList)\n",
    "    \n",
    "    def explain(self,feature_loc):\n",
    "        return reverse_translate(self.reverseList,feature_loc)"
   ]
  },
  {
   "cell_type": "code",
   "execution_count": 736,
   "id": "9765b240",
   "metadata": {},
   "outputs": [],
   "source": [
    "manu=ManualSelect()\n",
    "manu.set_para(len(train_count.merged_labels),manual_del_list,manual_merge_list)\n",
    "train_manu=manu.transform(train_count.merged_features)\n",
    "dev_manu=manu.transform(dev_count.merged_features)"
   ]
  },
  {
   "cell_type": "code",
   "execution_count": 163,
   "id": "fec88f01",
   "metadata": {},
   "outputs": [
    {
     "data": {
      "text/plain": [
       "PCA(random_state=0)"
      ]
     },
     "execution_count": 163,
     "metadata": {},
     "output_type": "execute_result"
    }
   ],
   "source": [
    "transformer = PCA(random_state=0)\n",
    "transformer.fit(train_count_tweet)\n",
    "transformer.explained_variance_.tolist()\n",
    "\n",
    "pca_train_count=transformer.transform(train_count_tweet)\n",
    "pca_train_count_3 = PCA(n_components=3).fit_transform(train_count.merged_features)"
   ]
  },
  {
   "cell_type": "code",
   "execution_count": 448,
   "id": "4d0894c2",
   "metadata": {},
   "outputs": [],
   "source": [
    "def show_3_top_features(data,labels,locs):\n",
    "    #features: numpy.ndarray\n",
    "    fig = plt.figure(1, figsize=(8, 8))\n",
    "    fig = plt.figure()\n",
    "    ax = Axes3D(fig)#ax = Axes3D(fig, elev=-150, azim=110)\n",
    "    features=np.mat(data)\n",
    "    ax.scatter(features[:, locs[0]], features[:, locs[1]], features[:, locs[2]], c=labels,\n",
    "               cmap=plt.cm.Set1, edgecolor='k', s=40)\n",
    "    ax.set_title(\"First three PCA directions\")\n",
    "    ax.set_xlabel(\"1st eigenvector\")\n",
    "    ax.w_xaxis.set_ticklabels([])\n",
    "    ax.set_ylabel(\"2nd eigenvector\")\n",
    "    ax.w_yaxis.set_ticklabels([])\n",
    "    ax.set_zlabel(\"3rd eigenvector\")\n",
    "    ax.w_zaxis.set_ticklabels([])\n",
    "\n",
    "    plt.show()"
   ]
  },
  {
   "cell_type": "code",
   "execution_count": 195,
   "id": "d993a461",
   "metadata": {},
   "outputs": [
    {
     "name": "stderr",
     "output_type": "stream",
     "text": [
      "<ipython-input-194-0df647789913>:5: MatplotlibDeprecationWarning: Axes3D(fig) adding itself to the figure is deprecated since 3.4. Pass the keyword argument auto_add_to_figure=False and use fig.add_axes(ax) to suppress this warning. The default value of auto_add_to_figure will change to False in mpl3.5 and True values will no longer work in 3.6.  This is consistent with other Axes classes.\n",
      "  ax = Axes3D(fig)#ax = Axes3D(fig, elev=-150, azim=110)\n"
     ]
    },
    {
     "data": {
      "text/plain": [
       "<Figure size 576x576 with 0 Axes>"
      ]
     },
     "metadata": {},
     "output_type": "display_data"
    },
    {
     "data": {
      "image/png": "[encoded data removed]",
      "text/plain": [
       "<Figure size 432x288 with 1 Axes>"
      ]
     },
     "metadata": {
      "needs_background": "light"
     },
     "output_type": "display_data"
    }
   ],
   "source": [
    "show_3_top_features(pca_train_count_3,train_count_region_numb,[0,1,2])"
   ]
  },
  {
   "cell_type": "code",
   "execution_count": null,
   "id": "6d511cd7",
   "metadata": {},
   "outputs": [],
   "source": [
    "\n",
    "k_fold_nb=tst.k_fold(MultinomialNB(),train_count.merged_features,train_count.merged_labels,fold=10)\n",
    "k_fold_nb_c=tst.k_fold(MultinomialNB(),train_c,train_count.merged_labels,fold=10)\n",
    "k_fold_nb_mi=tst.k_fold(MultinomialNB(),train_x_mi,train_count.merged_labels,10)\n",
    "k_fold_nb_chi2=tst.k_fold(MultinomialNB(),train_x_chi2,train_count.merged_labels,10)\n",
    "print([k_fold_nb,k_fold_nb_c,k_fold_nb_mi,k_fold_nb_chi2])\n",
    "\n",
    "k_fold_xgb=tst.k_fold(model_xgb,train_count.merged_features,train_count.merged_labels,fold=10)\n",
    "k_fold_xgb_c=tst.k_fold(model_xgb,train_c,train_count.merged_labels,fold=10)\n",
    "k_fold_xgb_mi=tst.k_fold(model_xgb,train_x_mi,train_count.merged_labels,fold=5)\n",
    "k_fold_xgb_chi2=tst.k_fold(model_xgb,train_x_chi2,train_count.merged_labels,fold=10)\n",
    "print([k_fold_xgb,k_fold_xgb_c,k_fold_xgb_mi,k_fold_xgb_chi2])\n"
   ]
  },
  {
   "cell_type": "markdown",
   "id": "0220c7e0",
   "metadata": {},
   "source": [
    "### model training and testing"
   ]
  },
  {
   "cell_type": "code",
   "execution_count": 425,
   "id": "44fde05c",
   "metadata": {},
   "outputs": [],
   "source": [
    "class Tester:\n",
    "    def multi_score(self,true_label,predictions):\n",
    "        return [accuracy_score(true_label,predictions),f1_score(true_label,predictions,average='macro')]\n",
    "    \n",
    "    def merged_analysis(self,model,train_x,train_y,test_x,test_y,printRes=False,fit_model=True):\n",
    "        if fit_model:\n",
    "            model.fit(np.mat(train_x),train_y)\n",
    "        pred=model.predict(np.mat(test_x))\n",
    "        res=self.multi_score(pred.tolist(),test_y)\n",
    "        if printRes:\n",
    "            print(\"acc=\"+str(res[0])+' '+\"f1=\"+str(res[1]))\n",
    "        return res \n",
    "    \n",
    "    def k_fold(self,model,features,labels,fold):\n",
    "        cur_len=int(len(labels)/fold)\n",
    "        accs=[]\n",
    "        f1s=[]\n",
    "        for iter in range(fold):\n",
    "            print(\"fold: \"+str(iter))\n",
    "            train_x=np.mat(features[0:iter*cur_len]+features[(iter+1)*cur_len:-1])\n",
    "            test_x=np.mat(features[iter*cur_len:(iter+1)*cur_len])\n",
    "            train_y=labels[0:iter*cur_len]+labels[(iter+1)*cur_len:-1]\n",
    "            test_y=labels[iter*cur_len:(iter+1)*cur_len]\n",
    "            res=self.merged_analysis(model,train_x,train_y,test_x,test_y,printRes=False)\n",
    "            accs.append(res[0])\n",
    "            f1s.append(res[1])\n",
    "        return [sum(accs)/fold,sum(f1s)/fold]\n",
    "    \n",
    "    def learning_curve(self,model,train_x,train_y,test_x,test_y,step,fold=1):\n",
    "        accs_train=[]\n",
    "        accs_test=[]\n",
    "        f1_train=[]\n",
    "        f1_test=[]\n",
    "        for iter in range(1,step+1):\n",
    "            accTrain=[]\n",
    "            accTest=[]\n",
    "            f1Train=[]\n",
    "            f1Test=[]\n",
    "            for k in range(fold):\n",
    "                print(\"k=\"+str(k)+' '+\"iter=\"+str(iter))\n",
    "                if iter<step:\n",
    "                    X_train, X_test, Y_train, Y_test = train_test_split(train_x,train_y,test_size = 1-iter/step)\n",
    "                else:\n",
    "                    X_train=train_x\n",
    "                    Y_train=train_y\n",
    "                model.fit(np.mat(X_train),Y_train)\n",
    "                pred=model.predict(X_train).tolist()\n",
    "                res=self.multi_score(pred,Y_train)\n",
    "                accTrain.append(res[0])\n",
    "                f1Train.append(res[1])\n",
    "                \n",
    "                pred=model.predict(test_x).tolist()\n",
    "                res=self.multi_score(pred,test_y)\n",
    "                accTest.append(res[0])\n",
    "                f1Test.append(res[1])\n",
    "            accs_train.append(sum(accTrain)/len(accTrain))\n",
    "            accs_test.append(sum(accTest)/len(accTest))\n",
    "            f1_train.append(sum(f1Train)/len(f1Train))\n",
    "            f1_test.append(sum(f1Test)/len(f1Test))\n",
    "        return [list(range(1,step+1)),accs_train,accs_test,f1_train,f1_test]\n",
    "    \n",
    "    def report_model(self,model,train_x,train_y,test_x,test_y,fit_model=True):\n",
    "        if fit_model:\n",
    "            model.fit(np.mat(train_x),train_y)\n",
    "        pred=model.predict(np.mat(test_x))\n",
    "        print(classification_report(test_y,pred))\n",
    "        return"
   ]
  },
  {
   "cell_type": "markdown",
   "id": "89989de8",
   "metadata": {},
   "source": [
    "#### baseLines"
   ]
  },
  {
   "cell_type": "code",
   "execution_count": null,
   "id": "5e4f0032",
   "metadata": {},
   "outputs": [],
   "source": [
    "tst=Tester()\n",
    "learning_nb=tst.learning_curve(MultinomialNB(),train_count.merged_features,train_count.merged_labels,dev_count.merged_features,dev_count.merged_labels,step=10,fold=5)"
   ]
  },
  {
   "cell_type": "markdown",
   "id": "1581cdf6",
   "metadata": {},
   "source": [
    "#### xgboost"
   ]
  },
  {
   "cell_type": "code",
   "execution_count": 209,
   "id": "982cd85d",
   "metadata": {},
   "outputs": [],
   "source": [
    "from xgboost import XGBClassifier\n",
    "from sklearn.naive_bayes import MultinomialNB\n",
    "from sklearn.model_selection import GridSearchCV\n",
    "from sklearn.ensemble import RandomForestClassifier"
   ]
  },
  {
   "cell_type": "code",
   "execution_count": null,
   "id": "af289a36",
   "metadata": {},
   "outputs": [],
   "source": [
    "#because the limit of computing ablity, I actually run the gridsearch mutiple times and find the parameters one by one greedily\n",
    "param_tests = {\n",
    " 'max_depth':range(3,10,2),\n",
    " 'min_child_weight':range(1,3,0.5)\n",
    "}\n",
    "gsearch1 = GridSearchCV(estimator = XGBClassifier( learning_rate =0.1, n_estimators=140, max_depth=5,\n",
    " min_child_weight=1, gamma=0, subsample=0.8, colsample_bytree=0.8, nthread=4, scale_pos_weight=1, seed=27), \n",
    " param_grid = param_test1, scoring='roc_auc',n_jobs=4, cv=5)\n",
    "gsearch1.fit(np.mat(train_count.merged_features),train_count.merged_labels)\n",
    "gsearch1.grid_scores_, gsearch1.best_params_, gsearch1.best_score_"
   ]
  },
  {
   "cell_type": "code",
   "execution_count": 390,
   "id": "d1e9422a",
   "metadata": {},
   "outputs": [],
   "source": [
    "turned_xgb=XGBClassifier(learning_rate =0.3,nthread=4,min_child_weight=1.75,gamma=0,max_depth=3,colsample_bytree=0.6,subsample=0.6,n_estimators=67,reg_lambda=0)\n",
    "#turned_xgb2=XGBClassifier(learning_rate =0.3,nthread=4,min_child_weight=1.75,gamma=0,max_depth=4,colsample_bytree=0.7,subsample=0.6,n_estimators=225,reg_lambda=0)"
   ]
  },
  {
   "cell_type": "code",
   "execution_count": null,
   "id": "20bf1073",
   "metadata": {},
   "outputs": [],
   "source": [
    "learning_xgb_raw=tst.learning_curve(XGBClassifier(),np.mat(train_count.merged_features),train_count.merged_labels,np.mat(dev_count.merged_features),dev_count.merged_labels,step=10,fold=5)\n",
    "learning_xgb_turned=tst.learning_curve(turned_xgb,np.mat(train_count.merged_features),train_count.merged_labels,np.mat(dev_count.merged_features),dev_count.merged_labels,step=10,fold=5)"
   ]
  },
  {
   "cell_type": "markdown",
   "id": "563484a4",
   "metadata": {},
   "source": [
    "#### multilayer perception"
   ]
  },
  {
   "cell_type": "code",
   "execution_count": null,
   "id": "ac03d6d0",
   "metadata": {},
   "outputs": [],
   "source": [
    "from sklearn.neural_network import MLPClassifier"
   ]
  },
  {
   "cell_type": "code",
   "execution_count": 616,
   "id": "d3841f4b",
   "metadata": {},
   "outputs": [],
   "source": [
    "model_mlp=MLPClassifier(max_iter=1000,hidden_layer_sizes=(1000),activation='tanh',early_stopping=True,random_state=0)\n",
    "#hidden_layer_sizes=(1322,100)"
   ]
  },
  {
   "cell_type": "code",
   "execution_count": 618,
   "id": "7d50ddcb",
   "metadata": {},
   "outputs": [
    {
     "name": "stdout",
     "output_type": "stream",
     "text": [
      "              precision    recall  f1-score   support\n",
      "\n",
      "           0       0.00      0.00      0.00        36\n",
      "           1       0.67      0.84      0.74       105\n",
      "           2       0.57      0.74      0.64       123\n",
      "           3       0.14      0.03      0.05        36\n",
      "\n",
      "    accuracy                           0.60       300\n",
      "   macro avg       0.34      0.40      0.36       300\n",
      "weighted avg       0.48      0.60      0.53       300\n",
      "\n"
     ]
    },
    {
     "name": "stderr",
     "output_type": "stream",
     "text": [
      "C:\\ProgramData\\Anaconda3\\lib\\site-packages\\sklearn\\metrics\\_classification.py:1248: UndefinedMetricWarning: Precision and F-score are ill-defined and being set to 0.0 in labels with no predicted samples. Use `zero_division` parameter to control this behavior.\n",
      "  _warn_prf(average, modifier, msg_start, len(result))\n",
      "C:\\ProgramData\\Anaconda3\\lib\\site-packages\\sklearn\\metrics\\_classification.py:1248: UndefinedMetricWarning: Precision and F-score are ill-defined and being set to 0.0 in labels with no predicted samples. Use `zero_division` parameter to control this behavior.\n",
      "  _warn_prf(average, modifier, msg_start, len(result))\n",
      "C:\\ProgramData\\Anaconda3\\lib\\site-packages\\sklearn\\metrics\\_classification.py:1248: UndefinedMetricWarning: Precision and F-score are ill-defined and being set to 0.0 in labels with no predicted samples. Use `zero_division` parameter to control this behavior.\n",
      "  _warn_prf(average, modifier, msg_start, len(result))\n"
     ]
    }
   ],
   "source": [
    "tst.report_model(model_mlp,train_count_xgb2,train_count.merged_labels,dev_count_xgb2,dev_count.merged_labels)"
   ]
  },
  {
   "cell_type": "markdown",
   "id": "82f24f33",
   "metadata": {},
   "source": [
    "#### bert"
   ]
  },
  {
   "cell_type": "code",
   "execution_count": null,
   "id": "57d6ebf7",
   "metadata": {},
   "outputs": [],
   "source": [
    "#this part reused code from https://zhuanlan.zhihu.com/p/72448986\n",
    "from sklearn.preprocessing import LabelEncoder\n",
    "from sklearn.metrics import precision_recall_curve,classification_report\n",
    "\n",
    "from transformers import BertTokenizer, BertForSequenceClassification, AdamW\n",
    "from transformers.data.processors.glue import glue_convert_examples_to_features as convert_examples_to_features\n",
    "from transformers.data.processors.utils import DataProcessor, InputExample\n",
    "\n",
    "import pandas as pd\n",
    "from concurrent.futures import ThreadPoolExecutor\n",
    "import torch\n",
    "from torch.utils.data import DataLoader, RandomSampler, SequentialSampler, TensorDataset\n",
    "from torch.nn import CrossEntropyLoss,BCEWithLogitsLoss\n",
    "from tqdm import tqdm_notebook, trange\n",
    "import pickle\n",
    "from collections import Counter\n",
    "from transformers import get_linear_schedule_with_warmup\n",
    "from torch.optim import optimizer\n",
    "import os\n",
    "import sys\n",
    "import numpy as np\n",
    "from transformers.optimization import AdamW#, WarmupLinearSchedule\n",
    "import matplotlib.pyplot as plt"
   ]
  },
  {
   "cell_type": "code",
   "execution_count": null,
   "id": "a6a64e94",
   "metadata": {},
   "outputs": [],
   "source": [
    "MAX_SEQ_LEN=150\n",
    "train_df_raw=pd.read_csv(r\"C:\\Users\\Lenovo\\Desktop\\course codes\\AI\\ass3\\data\\train_full.csv\")\n",
    "test_df_raw=pd.read_csv(r\"C:\\Users\\Lenovo\\Desktop\\course codes\\AI\\ass3\\data\\dev_full.csv\")\n",
    "train_df_raw.columns = ['label','user','tweet']\n",
    "test_df_raw.columns = ['label','user','tweet']\n",
    "le = LabelEncoder()\n",
    "le.fit(train_df_raw['label'].tolist())\n",
    "train_df_raw['label'] = le.transform(train_df_raw['label'].tolist())\n",
    "test_df_raw['label'] = le.transform(test_df_raw['label'].tolist())"
   ]
  },
  {
   "cell_type": "code",
   "execution_count": null,
   "id": "240ba17d",
   "metadata": {},
   "outputs": [],
   "source": [
    "bert_tokenizer = BertTokenizer.from_pretrained('bert-base-uncased')\n",
    "def get_input(dataset, max_seq_len=MAX_SEQ_LEN):\n",
    "    pool = ThreadPoolExecutor(max_workers=4)\n",
    "    def trunate_and_pad(seq, max_seq_len):\n",
    "        seq = ['[CLS]'] + seq + ['[SEP]']\n",
    "        seq = bert_tokenizer.convert_tokens_to_ids(seq)\n",
    "        padding = [0] * (max_seq_len - len(seq))\n",
    "        seq_mask = [1] * len(seq) + padding\n",
    "        seq_segment = [0] * len(seq) + padding\n",
    "        seq += padding\n",
    "        assert len(seq) == max_seq_len\n",
    "        assert len(seq_mask) == max_seq_len\n",
    "        assert len(seq_segment) == max_seq_len\n",
    "        return seq, seq_mask, seq_segment\n",
    "    \n",
    "    sentences = dataset['tweet'].tolist()\n",
    "    labels = dataset['label'].tolist()\n",
    "    tokens_seq = list(\n",
    "            pool.map(bert_tokenizer.tokenize, sentences))\n",
    "    result = list(\n",
    "            pool.map(trunate_and_pad, tokens_seq,\n",
    "                          [max_seq_len] * len(tokens_seq)))\n",
    "        \n",
    "    seqs = [i[0] for i in result]\n",
    "    seq_masks = [i[1] for i in result]\n",
    "    seq_segments = [i[2] for i in result]\n",
    "    return seqs, seq_masks, seq_segments, labels\n",
    "seqs, seq_masks, seq_segments, labels = get_input(dataset=train_df_raw, max_seq_len=MAX_SEQ_LEN)#原来是30"
   ]
  },
  {
   "cell_type": "code",
   "execution_count": null,
   "id": "a9990086",
   "metadata": {},
   "outputs": [],
   "source": [
    "model = BertForSequenceClassification.from_pretrained('bert-base-uncased', num_labels=4)\n",
    "t_seqs = torch.tensor(seqs, dtype=torch.long)\n",
    "t_seq_masks = torch.tensor(seq_masks, dtype = torch.long)\n",
    "t_seq_segments = torch.tensor(seq_segments, dtype = torch.long)\n",
    "t_labels = torch.tensor(labels, dtype = torch.long)\n",
    "\n",
    "train_data = TensorDataset(t_seqs, t_seq_masks, t_seq_segments, t_labels)\n",
    "train_sampler = RandomSampler(train_data)\n",
    "train_dataloder = DataLoader(dataset= train_data, sampler= train_sampler,batch_size = 128)\n",
    "\n",
    "model.train()\n",
    "param_optimizer = list(model.named_parameters())\n",
    "no_decay = ['bias', 'LayerNorm.bias', 'LayerNorm.weight']\n",
    "optimizer_grouped_parameters = [\n",
    "    {\n",
    "        'params':[p for n, p in param_optimizer if not any(nd in n for nd in no_decay)],\n",
    "        'weight_decay':0.01\n",
    "    },\n",
    "    {\n",
    "        'params':[p for n, p in param_optimizer if any(nd in n for nd in no_decay)],\n",
    "        'weight_decay':0.0\n",
    "    }\n",
    "]\n",
    "\n",
    "device = \"cpu\"#torch.device(\"cuda\" if torch.cuda.is_available() else \"cpu\")\n",
    "\n",
    "optimizer = AdamW(optimizer_grouped_parameters, lr=2e-05, correct_bias=True)  # 要重现BertAdam特定的行为，请设置correct_bias = False\n",
    "scheduler = get_linear_schedule_with_warmup(optimizer, num_warmup_steps=0.1, num_training_steps=2000)  # PyTorch调度程序用法如下：\n"
   ]
  },
  {
   "cell_type": "code",
   "execution_count": null,
   "id": "e16ad3a4",
   "metadata": {},
   "outputs": [],
   "source": [
    "loss_collect = []\n",
    "max_grad_norm=1.0\n",
    "for i in trange(1, desc='Epoch'):\n",
    "    for step, batch_data in enumerate(tqdm_notebook(train_dataloder, desc='Iteration')):\n",
    "        batch_data = tuple(t.to(device) for t in batch_data)\n",
    "        batch_seqs, batch_seq_masks, batch_seq_segments, batch_labels = batch_data\n",
    "        # 对标签进行onehot编码\n",
    "        one_hot = torch.zeros(batch_labels.size(0), 4).long()\n",
    "        one_hot_batch_labels = one_hot.scatter_(\n",
    "            dim=1,\n",
    "            index=torch.unsqueeze(batch_labels, dim=1),\n",
    "            src=torch.ones(batch_labels.size(0), 4).long())\n",
    "        outputs=model(\n",
    "            batch_seqs, batch_seq_masks, batch_seq_segments, labels=None)\n",
    "        logits = outputs.logits.softmax(dim=1)\n",
    "        \n",
    "        loss_function = CrossEntropyLoss()\n",
    "        loss = loss_function(logits, batch_labels)\n",
    "        loss.backward()\n",
    "        loss_collect.append(loss.item())\n",
    "        print(\"\\r%f\" % loss, end='')\n",
    "        torch.nn.utils.clip_grad_norm_(model.parameters(), max_grad_norm)\n",
    "        optimizer.step()\n",
    "        scheduler.step()\n",
    "        optimizer.zero_grad()"
   ]
  },
  {
   "cell_type": "code",
   "execution_count": null,
   "id": "c3ed1d92",
   "metadata": {},
   "outputs": [],
   "source": [
    "torch.save(model,open(\"fine_tuned_train_bert.bin\",\"wb\"))\n",
    "\n",
    "test_seqs, test_seq_masks, test_seq_segments, test_labels = get_input(dataset=test_df_raw, max_seq_len=MAX_SEQ_LEN)\n",
    "test_seqs = torch.tensor(test_seqs, dtype=torch.long)\n",
    "test_seq_masks = torch.tensor(test_seq_masks, dtype = torch.long)\n",
    "test_seq_segments = torch.tensor(test_seq_segments, dtype = torch.long)\n",
    "\n",
    "test_labels = torch.tensor(test_labels, dtype = torch.long)\n",
    "test_data = TensorDataset(test_seqs, test_seq_masks, test_seq_segments, test_labels)\n",
    "test_dataloder = DataLoader(dataset= test_data, batch_size = 128)\n",
    "# 用于存储预测标签与真实标签\n",
    "true_labels = []\n",
    "pred_labels = []\n",
    "model.eval()\n",
    "device = \"cpu\""
   ]
  },
  {
   "cell_type": "code",
   "execution_count": null,
   "id": "870aabf8",
   "metadata": {},
   "outputs": [],
   "source": [
    "outputs=None\n",
    "with torch.no_grad():\n",
    "    for batch_data in tqdm_notebook(test_dataloder, desc = 'TEST'):\n",
    "        batch_data = tuple(t.to(device) for t in batch_data)\n",
    "        batch_seqs, batch_seq_masks, batch_seq_segments, batch_labels = batch_data        \n",
    "        outputs=model(\n",
    "            batch_seqs, batch_seq_masks, batch_seq_segments, labels=None)\n",
    "        cur_pred_labels=outputs.logits.softmax(dim=1).argmax(dim=1).detach().numpy()\n",
    "        cur_true_labels=batch_labels.detach().numpy()\n",
    "        pred_labels.append(cur_pred_labels)\n",
    "        true_labels.append(cur_true_labels)"
   ]
  },
  {
   "cell_type": "code",
   "execution_count": null,
   "id": "2cf9e4e1",
   "metadata": {},
   "outputs": [],
   "source": [
    "print(classification_report(np.concatenate(true_labels), np.concatenate(pred_labels)))       "
   ]
  },
  {
   "cell_type": "code",
   "execution_count": null,
   "id": "08d9f35a",
   "metadata": {},
   "outputs": [],
   "source": [
    "plt.scatter(y=loss_collect,x=list(range(len(loss_collect))))\n",
    "plt.ylabel(\"Cross entropy loss\")\n",
    "plt.xlabel(\"Training batch num\")\n",
    "plt.title(\"the loss of bert classifier during training\")\n",
    "plt.show()"
   ]
  },
  {
   "cell_type": "markdown",
   "id": "4346c54b",
   "metadata": {},
   "source": [
    " ### ensemble learning"
   ]
  },
  {
   "cell_type": "markdown",
   "id": "6afe0420",
   "metadata": {},
   "source": [
    "#### stacking"
   ]
  },
  {
   "cell_type": "code",
   "execution_count": 365,
   "id": "52871a31",
   "metadata": {},
   "outputs": [],
   "source": [
    "from mlxtend.classifier import StackingClassifier\n",
    "from sklearn.ensemble import VotingClassifier\n",
    "from sklearn.linear_model import LogisticRegression\n",
    "from sklearn import tree\n",
    "from sklearn.svm import SVC"
   ]
  },
  {
   "cell_type": "code",
   "execution_count": 587,
   "id": "1d40213b",
   "metadata": {},
   "outputs": [],
   "source": [
    "model_xgb=XGBClassifier(learning_rate =0.3,nthread=4,min_child_weight=1.75,gamma=0,max_depth=3,colsample_bytree=0.6,subsample=0.6,n_estimators=67,reg_lambda=0)\n",
    "model_mlp=model_mlp=MLPClassifier(max_iter=1000,hidden_layer_sizes=(1000,500),activation='tanh',early_stopping=True,random_state=0)#hidden_layer_sizes=(2000,1000)\n",
    "model_rfc = RandomForestClassifier(n_estimators=120,oob_score=True)\n",
    "model_svc=SVC(C=4.0, probability=True,random_state=0,class_weight={1: 3, 2: 3, 3: 1, 0: 1})\n",
    "model_lr=LogisticRegression(C=30,solver='saga',max_iter=100,n_jobs=4,random_state=0)"
   ]
  },
  {
   "cell_type": "code",
   "execution_count": 296,
   "id": "09380732",
   "metadata": {},
   "outputs": [],
   "source": [
    "sclf = StackingClassifier(classifiers=[model_xgb, model_mlp,model_svc], meta_classifier=LogisticRegression(),use_probas=True)"
   ]
  },
  {
   "cell_type": "code",
   "execution_count": 588,
   "id": "855a65d8",
   "metadata": {},
   "outputs": [],
   "source": [
    "vclf = VotingClassifier(estimators=[\n",
    "    ('xgb',model_xgb),\n",
    "    ('mlp',model_mlp),\n",
    "    #('svc',model_svc),\n",
    "    ('rfc',model_rfc),\n",
    "    #('lr',model_lr)\n",
    "    ],voting='soft')"
   ]
  },
  {
   "cell_type": "code",
   "execution_count": null,
   "id": "012ed5a3",
   "metadata": {},
   "outputs": [],
   "source": [
    "#soft vclf:[0.6466666666666666, 0.43173541167670326]\n",
    "#hard vclf:[0.6466666666666666, 0.45583570538222545]\n",
    "#soft+forest:[0.66, 0.43147367642709267]_[0.6533333333333333, 0.41908146803791085]\n",
    "#hard+forest:[0.6333333333333333, 0.43173093528544365]\n",
    "#hard+LR [0.6366666666666667, 0.4686855337802991]\n",
    "#+LR=>[0.64, 0.4388560687432868]\n",
    "#+LR+rfc->[0.63, 0.4128924840244872]\n",
    "#lr+svc->[0.6366666666666667, 0.41657529239766083]"
   ]
  },
  {
   "cell_type": "code",
   "execution_count": 407,
   "id": "3e508ee9",
   "metadata": {},
   "outputs": [
    {
     "name": "stderr",
     "output_type": "stream",
     "text": [
      "C:\\ProgramData\\Anaconda3\\lib\\site-packages\\xgboost\\sklearn.py:1146: UserWarning: The use of label encoder in XGBClassifier is deprecated and will be removed in a future release. To remove this warning, do the following: 1) Pass option use_label_encoder=False when constructing XGBClassifier object; and 2) Encode your labels (y) as integers starting with 0, i.e. 0, 1, 2, ..., [num_class - 1].\n",
      "  warnings.warn(label_encoder_deprecation_msg, UserWarning)\n"
     ]
    },
    {
     "name": "stdout",
     "output_type": "stream",
     "text": [
      "[12:22:20] WARNING: ..\\src\\learner.cc:573: \n",
      "Parameters: { \"early_stopping\" } might not be used.\n",
      "\n",
      "  This may not be accurate due to some parameters are only used in language bindings but\n",
      "  passed down to XGBoost core.  Or some parameters are not used but slip through this\n",
      "  verification. Please open an issue if you find above cases.\n",
      "\n",
      "\n",
      "[12:22:21] WARNING: ..\\src\\learner.cc:1095: Starting in XGBoost 1.3.0, the default evaluation metric used with the objective 'multi:softprob' was changed from 'merror' to 'mlogloss'. Explicitly set eval_metric if you'd like to restore the old behavior.\n"
     ]
    },
    {
     "data": {
      "text/plain": [
       "[0.65, 0.4176153529840317]"
      ]
     },
     "execution_count": 407,
     "metadata": {},
     "output_type": "execute_result"
    }
   ],
   "source": [
    "tst.merged_analysis(vclf,np.mat(train_count.merged_features),train_count.merged_labels,np.mat(dev_count.merged_features),dev_count.merged_labels)"
   ]
  },
  {
   "cell_type": "code",
   "execution_count": 589,
   "id": "9a2f6ac3",
   "metadata": {},
   "outputs": [
    {
     "name": "stderr",
     "output_type": "stream",
     "text": [
      "C:\\ProgramData\\Anaconda3\\lib\\site-packages\\xgboost\\sklearn.py:1146: UserWarning: The use of label encoder in XGBClassifier is deprecated and will be removed in a future release. To remove this warning, do the following: 1) Pass option use_label_encoder=False when constructing XGBClassifier object; and 2) Encode your labels (y) as integers starting with 0, i.e. 0, 1, 2, ..., [num_class - 1].\n",
      "  warnings.warn(label_encoder_deprecation_msg, UserWarning)\n"
     ]
    },
    {
     "name": "stdout",
     "output_type": "stream",
     "text": [
      "[00:54:11] WARNING: ..\\src\\learner.cc:1095: Starting in XGBoost 1.3.0, the default evaluation metric used with the objective 'multi:softprob' was changed from 'merror' to 'mlogloss'. Explicitly set eval_metric if you'd like to restore the old behavior.\n"
     ]
    },
    {
     "name": "stderr",
     "output_type": "stream",
     "text": [
      "C:\\ProgramData\\Anaconda3\\lib\\site-packages\\xgboost\\data.py:112: UserWarning: Use subset (sliced data) of np.ndarray is not recommended because it will generate extra copies and increase memory consumption\n",
      "  warnings.warn(\n"
     ]
    },
    {
     "data": {
      "text/plain": [
       "[0.6333333333333333, 0.44002433275236386]"
      ]
     },
     "execution_count": 589,
     "metadata": {},
     "output_type": "execute_result"
    }
   ],
   "source": [
    "tst.merged_analysis(vclf,train_count_xgb2,train_count.merged_labels,dev_count_xgb2,dev_count.merged_labels)"
   ]
  },
  {
   "cell_type": "markdown",
   "id": "6550bb39",
   "metadata": {},
   "source": [
    "#### Bagging"
   ]
  },
  {
   "cell_type": "code",
   "execution_count": 591,
   "id": "110640e2",
   "metadata": {},
   "outputs": [],
   "source": [
    "from sklearn.ensemble import BaggingClassifier"
   ]
  },
  {
   "cell_type": "code",
   "execution_count": 599,
   "id": "056fb6c1",
   "metadata": {},
   "outputs": [],
   "source": [
    "bclf = BaggingClassifier(base_estimator=model_xgb, n_estimators=10, random_state=0)"
   ]
  },
  {
   "cell_type": "code",
   "execution_count": 598,
   "id": "0131cdaa",
   "metadata": {},
   "outputs": [
    {
     "name": "stderr",
     "output_type": "stream",
     "text": [
      "C:\\ProgramData\\Anaconda3\\lib\\site-packages\\xgboost\\sklearn.py:1146: UserWarning: The use of label encoder in XGBClassifier is deprecated and will be removed in a future release. To remove this warning, do the following: 1) Pass option use_label_encoder=False when constructing XGBClassifier object; and 2) Encode your labels (y) as integers starting with 0, i.e. 0, 1, 2, ..., [num_class - 1].\n",
      "  warnings.warn(label_encoder_deprecation_msg, UserWarning)\n"
     ]
    },
    {
     "name": "stdout",
     "output_type": "stream",
     "text": [
      "[01:19:14] WARNING: ..\\src\\learner.cc:1095: Starting in XGBoost 1.3.0, the default evaluation metric used with the objective 'multi:softprob' was changed from 'merror' to 'mlogloss'. Explicitly set eval_metric if you'd like to restore the old behavior.\n",
      "[01:19:16] WARNING: ..\\src\\learner.cc:1095: Starting in XGBoost 1.3.0, the default evaluation metric used with the objective 'multi:softprob' was changed from 'merror' to 'mlogloss'. Explicitly set eval_metric if you'd like to restore the old behavior.\n",
      "[01:19:19] WARNING: ..\\src\\learner.cc:1095: Starting in XGBoost 1.3.0, the default evaluation metric used with the objective 'multi:softprob' was changed from 'merror' to 'mlogloss'. Explicitly set eval_metric if you'd like to restore the old behavior.\n",
      "[01:19:22] WARNING: ..\\src\\learner.cc:1095: Starting in XGBoost 1.3.0, the default evaluation metric used with the objective 'multi:softprob' was changed from 'merror' to 'mlogloss'. Explicitly set eval_metric if you'd like to restore the old behavior.\n",
      "[01:19:25] WARNING: ..\\src\\learner.cc:1095: Starting in XGBoost 1.3.0, the default evaluation metric used with the objective 'multi:softprob' was changed from 'merror' to 'mlogloss'. Explicitly set eval_metric if you'd like to restore the old behavior.\n",
      "[01:19:28] WARNING: ..\\src\\learner.cc:1095: Starting in XGBoost 1.3.0, the default evaluation metric used with the objective 'multi:softprob' was changed from 'merror' to 'mlogloss'. Explicitly set eval_metric if you'd like to restore the old behavior.\n",
      "[01:19:31] WARNING: ..\\src\\learner.cc:1095: Starting in XGBoost 1.3.0, the default evaluation metric used with the objective 'multi:softprob' was changed from 'merror' to 'mlogloss'. Explicitly set eval_metric if you'd like to restore the old behavior.\n",
      "[01:19:34] WARNING: ..\\src\\learner.cc:1095: Starting in XGBoost 1.3.0, the default evaluation metric used with the objective 'multi:softprob' was changed from 'merror' to 'mlogloss'. Explicitly set eval_metric if you'd like to restore the old behavior.\n",
      "[01:19:37] WARNING: ..\\src\\learner.cc:1095: Starting in XGBoost 1.3.0, the default evaluation metric used with the objective 'multi:softprob' was changed from 'merror' to 'mlogloss'. Explicitly set eval_metric if you'd like to restore the old behavior.\n",
      "[01:19:40] WARNING: ..\\src\\learner.cc:1095: Starting in XGBoost 1.3.0, the default evaluation metric used with the objective 'multi:softprob' was changed from 'merror' to 'mlogloss'. Explicitly set eval_metric if you'd like to restore the old behavior.\n"
     ]
    },
    {
     "name": "stderr",
     "output_type": "stream",
     "text": [
      "C:\\ProgramData\\Anaconda3\\lib\\site-packages\\xgboost\\data.py:112: UserWarning: Use subset (sliced data) of np.ndarray is not recommended because it will generate extra copies and increase memory consumption\n",
      "  warnings.warn(\n"
     ]
    },
    {
     "data": {
      "text/plain": [
       "[0.64, 0.4295869707634413]"
      ]
     },
     "execution_count": 598,
     "metadata": {},
     "output_type": "execute_result"
    }
   ],
   "source": [
    "tst.merged_analysis(bclf,train_count_xgb2,train_count.merged_labels,dev_count_xgb2,dev_count.merged_labels)"
   ]
  },
  {
   "cell_type": "code",
   "execution_count": 611,
   "id": "d29a1d57",
   "metadata": {},
   "outputs": [
    {
     "name": "stdout",
     "output_type": "stream",
     "text": [
      "fold: 0\n",
      "fold: 1\n",
      "fold: 2\n",
      "fold: 3\n",
      "fold: 4\n",
      "fold: 5\n",
      "fold: 6\n",
      "fold: 7\n",
      "fold: 8\n",
      "fold: 9\n"
     ]
    },
    {
     "data": {
      "text/plain": [
       "[0.5476470588235294, 0.31436333977222475]"
      ]
     },
     "execution_count": 611,
     "metadata": {},
     "output_type": "execute_result"
    }
   ],
   "source": [
    "[0.5476470588235294, 0.31436333977222475]->[0.5558823529411764, 0.3212994012638574]\n",
    "tst.k_fold(MultinomialNB(),train_count.merged_features,train_count.merged_labels,10)"
   ]
  },
  {
   "cell_type": "code",
   "execution_count": 609,
   "id": "a3414bac",
   "metadata": {},
   "outputs": [
    {
     "name": "stdout",
     "output_type": "stream",
     "text": [
      "fold: 0\n"
     ]
    },
    {
     "name": "stderr",
     "output_type": "stream",
     "text": [
      "C:\\ProgramData\\Anaconda3\\lib\\site-packages\\sklearn\\linear_model\\_sag.py:328: ConvergenceWarning: The max_iter was reached which means the coef_ did not converge\n",
      "  warnings.warn(\"The max_iter was reached which means \"\n"
     ]
    },
    {
     "name": "stdout",
     "output_type": "stream",
     "text": [
      "fold: 1\n"
     ]
    },
    {
     "name": "stderr",
     "output_type": "stream",
     "text": [
      "C:\\ProgramData\\Anaconda3\\lib\\site-packages\\sklearn\\linear_model\\_sag.py:328: ConvergenceWarning: The max_iter was reached which means the coef_ did not converge\n",
      "  warnings.warn(\"The max_iter was reached which means \"\n"
     ]
    },
    {
     "name": "stdout",
     "output_type": "stream",
     "text": [
      "fold: 2\n"
     ]
    },
    {
     "name": "stderr",
     "output_type": "stream",
     "text": [
      "C:\\ProgramData\\Anaconda3\\lib\\site-packages\\sklearn\\linear_model\\_sag.py:328: ConvergenceWarning: The max_iter was reached which means the coef_ did not converge\n",
      "  warnings.warn(\"The max_iter was reached which means \"\n"
     ]
    },
    {
     "name": "stdout",
     "output_type": "stream",
     "text": [
      "fold: 3\n"
     ]
    },
    {
     "name": "stderr",
     "output_type": "stream",
     "text": [
      "C:\\ProgramData\\Anaconda3\\lib\\site-packages\\sklearn\\linear_model\\_sag.py:328: ConvergenceWarning: The max_iter was reached which means the coef_ did not converge\n",
      "  warnings.warn(\"The max_iter was reached which means \"\n"
     ]
    },
    {
     "name": "stdout",
     "output_type": "stream",
     "text": [
      "fold: 4\n"
     ]
    },
    {
     "name": "stderr",
     "output_type": "stream",
     "text": [
      "C:\\ProgramData\\Anaconda3\\lib\\site-packages\\sklearn\\linear_model\\_sag.py:328: ConvergenceWarning: The max_iter was reached which means the coef_ did not converge\n",
      "  warnings.warn(\"The max_iter was reached which means \"\n"
     ]
    },
    {
     "name": "stdout",
     "output_type": "stream",
     "text": [
      "fold: 5\n"
     ]
    },
    {
     "name": "stderr",
     "output_type": "stream",
     "text": [
      "C:\\ProgramData\\Anaconda3\\lib\\site-packages\\sklearn\\linear_model\\_sag.py:328: ConvergenceWarning: The max_iter was reached which means the coef_ did not converge\n",
      "  warnings.warn(\"The max_iter was reached which means \"\n"
     ]
    },
    {
     "name": "stdout",
     "output_type": "stream",
     "text": [
      "fold: 6\n"
     ]
    },
    {
     "name": "stderr",
     "output_type": "stream",
     "text": [
      "C:\\ProgramData\\Anaconda3\\lib\\site-packages\\sklearn\\linear_model\\_sag.py:328: ConvergenceWarning: The max_iter was reached which means the coef_ did not converge\n",
      "  warnings.warn(\"The max_iter was reached which means \"\n"
     ]
    },
    {
     "name": "stdout",
     "output_type": "stream",
     "text": [
      "fold: 7\n"
     ]
    },
    {
     "name": "stderr",
     "output_type": "stream",
     "text": [
      "C:\\ProgramData\\Anaconda3\\lib\\site-packages\\sklearn\\linear_model\\_sag.py:328: ConvergenceWarning: The max_iter was reached which means the coef_ did not converge\n",
      "  warnings.warn(\"The max_iter was reached which means \"\n"
     ]
    },
    {
     "name": "stdout",
     "output_type": "stream",
     "text": [
      "fold: 8\n"
     ]
    },
    {
     "name": "stderr",
     "output_type": "stream",
     "text": [
      "C:\\ProgramData\\Anaconda3\\lib\\site-packages\\sklearn\\linear_model\\_sag.py:328: ConvergenceWarning: The max_iter was reached which means the coef_ did not converge\n",
      "  warnings.warn(\"The max_iter was reached which means \"\n"
     ]
    },
    {
     "name": "stdout",
     "output_type": "stream",
     "text": [
      "fold: 9\n"
     ]
    },
    {
     "name": "stderr",
     "output_type": "stream",
     "text": [
      "C:\\ProgramData\\Anaconda3\\lib\\site-packages\\sklearn\\linear_model\\_sag.py:328: ConvergenceWarning: The max_iter was reached which means the coef_ did not converge\n",
      "  warnings.warn(\"The max_iter was reached which means \"\n"
     ]
    },
    {
     "data": {
      "text/plain": [
       "[0.6076470588235294, 0.45860205288063954]"
      ]
     },
     "execution_count": 609,
     "metadata": {},
     "output_type": "execute_result"
    }
   ],
   "source": [
    "#[0.5952941176470588, 0.44255812635392094]->[0.6076470588235294, 0.45860205288063954]\n",
    "tst.k_fold(model_lr,train_count_xgb2.tolist(),train_count.merged_labels,10)"
   ]
  },
  {
   "cell_type": "code",
   "execution_count": 606,
   "id": "a6f0d56e",
   "metadata": {},
   "outputs": [
    {
     "name": "stdout",
     "output_type": "stream",
     "text": [
      "fold: 0\n"
     ]
    },
    {
     "name": "stderr",
     "output_type": "stream",
     "text": [
      "C:\\ProgramData\\Anaconda3\\lib\\site-packages\\xgboost\\sklearn.py:1146: UserWarning: The use of label encoder in XGBClassifier is deprecated and will be removed in a future release. To remove this warning, do the following: 1) Pass option use_label_encoder=False when constructing XGBClassifier object; and 2) Encode your labels (y) as integers starting with 0, i.e. 0, 1, 2, ..., [num_class - 1].\n",
      "  warnings.warn(label_encoder_deprecation_msg, UserWarning)\n"
     ]
    },
    {
     "name": "stdout",
     "output_type": "stream",
     "text": [
      "[01:32:10] WARNING: ..\\src\\learner.cc:1095: Starting in XGBoost 1.3.0, the default evaluation metric used with the objective 'multi:softprob' was changed from 'merror' to 'mlogloss'. Explicitly set eval_metric if you'd like to restore the old behavior.\n",
      "[01:32:15] WARNING: ..\\src\\learner.cc:1095: Starting in XGBoost 1.3.0, the default evaluation metric used with the objective 'multi:softprob' was changed from 'merror' to 'mlogloss'. Explicitly set eval_metric if you'd like to restore the old behavior.\n",
      "[01:32:21] WARNING: ..\\src\\learner.cc:1095: Starting in XGBoost 1.3.0, the default evaluation metric used with the objective 'multi:softprob' was changed from 'merror' to 'mlogloss'. Explicitly set eval_metric if you'd like to restore the old behavior.\n",
      "[01:32:27] WARNING: ..\\src\\learner.cc:1095: Starting in XGBoost 1.3.0, the default evaluation metric used with the objective 'multi:softprob' was changed from 'merror' to 'mlogloss'. Explicitly set eval_metric if you'd like to restore the old behavior.\n",
      "[01:32:33] WARNING: ..\\src\\learner.cc:1095: Starting in XGBoost 1.3.0, the default evaluation metric used with the objective 'multi:softprob' was changed from 'merror' to 'mlogloss'. Explicitly set eval_metric if you'd like to restore the old behavior.\n",
      "[01:32:38] WARNING: ..\\src\\learner.cc:1095: Starting in XGBoost 1.3.0, the default evaluation metric used with the objective 'multi:softprob' was changed from 'merror' to 'mlogloss'. Explicitly set eval_metric if you'd like to restore the old behavior.\n",
      "[01:32:44] WARNING: ..\\src\\learner.cc:1095: Starting in XGBoost 1.3.0, the default evaluation metric used with the objective 'multi:softprob' was changed from 'merror' to 'mlogloss'. Explicitly set eval_metric if you'd like to restore the old behavior.\n",
      "[01:32:50] WARNING: ..\\src\\learner.cc:1095: Starting in XGBoost 1.3.0, the default evaluation metric used with the objective 'multi:softprob' was changed from 'merror' to 'mlogloss'. Explicitly set eval_metric if you'd like to restore the old behavior.\n",
      "[01:32:56] WARNING: ..\\src\\learner.cc:1095: Starting in XGBoost 1.3.0, the default evaluation metric used with the objective 'multi:softprob' was changed from 'merror' to 'mlogloss'. Explicitly set eval_metric if you'd like to restore the old behavior.\n",
      "[01:33:01] WARNING: ..\\src\\learner.cc:1095: Starting in XGBoost 1.3.0, the default evaluation metric used with the objective 'multi:softprob' was changed from 'merror' to 'mlogloss'. Explicitly set eval_metric if you'd like to restore the old behavior.\n"
     ]
    },
    {
     "name": "stderr",
     "output_type": "stream",
     "text": [
      "C:\\ProgramData\\Anaconda3\\lib\\site-packages\\xgboost\\data.py:112: UserWarning: Use subset (sliced data) of np.ndarray is not recommended because it will generate extra copies and increase memory consumption\n",
      "  warnings.warn(\n"
     ]
    },
    {
     "name": "stdout",
     "output_type": "stream",
     "text": [
      "fold: 1\n"
     ]
    },
    {
     "name": "stderr",
     "output_type": "stream",
     "text": [
      "C:\\ProgramData\\Anaconda3\\lib\\site-packages\\xgboost\\sklearn.py:1146: UserWarning: The use of label encoder in XGBClassifier is deprecated and will be removed in a future release. To remove this warning, do the following: 1) Pass option use_label_encoder=False when constructing XGBClassifier object; and 2) Encode your labels (y) as integers starting with 0, i.e. 0, 1, 2, ..., [num_class - 1].\n",
      "  warnings.warn(label_encoder_deprecation_msg, UserWarning)\n"
     ]
    },
    {
     "name": "stdout",
     "output_type": "stream",
     "text": [
      "[01:33:08] WARNING: ..\\src\\learner.cc:1095: Starting in XGBoost 1.3.0, the default evaluation metric used with the objective 'multi:softprob' was changed from 'merror' to 'mlogloss'. Explicitly set eval_metric if you'd like to restore the old behavior.\n",
      "[01:33:14] WARNING: ..\\src\\learner.cc:1095: Starting in XGBoost 1.3.0, the default evaluation metric used with the objective 'multi:softprob' was changed from 'merror' to 'mlogloss'. Explicitly set eval_metric if you'd like to restore the old behavior.\n",
      "[01:33:19] WARNING: ..\\src\\learner.cc:1095: Starting in XGBoost 1.3.0, the default evaluation metric used with the objective 'multi:softprob' was changed from 'merror' to 'mlogloss'. Explicitly set eval_metric if you'd like to restore the old behavior.\n",
      "[01:33:25] WARNING: ..\\src\\learner.cc:1095: Starting in XGBoost 1.3.0, the default evaluation metric used with the objective 'multi:softprob' was changed from 'merror' to 'mlogloss'. Explicitly set eval_metric if you'd like to restore the old behavior.\n",
      "[01:33:31] WARNING: ..\\src\\learner.cc:1095: Starting in XGBoost 1.3.0, the default evaluation metric used with the objective 'multi:softprob' was changed from 'merror' to 'mlogloss'. Explicitly set eval_metric if you'd like to restore the old behavior.\n",
      "[01:33:37] WARNING: ..\\src\\learner.cc:1095: Starting in XGBoost 1.3.0, the default evaluation metric used with the objective 'multi:softprob' was changed from 'merror' to 'mlogloss'. Explicitly set eval_metric if you'd like to restore the old behavior.\n",
      "[01:33:43] WARNING: ..\\src\\learner.cc:1095: Starting in XGBoost 1.3.0, the default evaluation metric used with the objective 'multi:softprob' was changed from 'merror' to 'mlogloss'. Explicitly set eval_metric if you'd like to restore the old behavior.\n",
      "[01:33:49] WARNING: ..\\src\\learner.cc:1095: Starting in XGBoost 1.3.0, the default evaluation metric used with the objective 'multi:softprob' was changed from 'merror' to 'mlogloss'. Explicitly set eval_metric if you'd like to restore the old behavior.\n",
      "[01:33:55] WARNING: ..\\src\\learner.cc:1095: Starting in XGBoost 1.3.0, the default evaluation metric used with the objective 'multi:softprob' was changed from 'merror' to 'mlogloss'. Explicitly set eval_metric if you'd like to restore the old behavior.\n",
      "[01:34:01] WARNING: ..\\src\\learner.cc:1095: Starting in XGBoost 1.3.0, the default evaluation metric used with the objective 'multi:softprob' was changed from 'merror' to 'mlogloss'. Explicitly set eval_metric if you'd like to restore the old behavior.\n"
     ]
    },
    {
     "name": "stderr",
     "output_type": "stream",
     "text": [
      "C:\\ProgramData\\Anaconda3\\lib\\site-packages\\xgboost\\data.py:112: UserWarning: Use subset (sliced data) of np.ndarray is not recommended because it will generate extra copies and increase memory consumption\n",
      "  warnings.warn(\n"
     ]
    },
    {
     "name": "stdout",
     "output_type": "stream",
     "text": [
      "fold: 2\n"
     ]
    },
    {
     "name": "stderr",
     "output_type": "stream",
     "text": [
      "C:\\ProgramData\\Anaconda3\\lib\\site-packages\\xgboost\\sklearn.py:1146: UserWarning: The use of label encoder in XGBClassifier is deprecated and will be removed in a future release. To remove this warning, do the following: 1) Pass option use_label_encoder=False when constructing XGBClassifier object; and 2) Encode your labels (y) as integers starting with 0, i.e. 0, 1, 2, ..., [num_class - 1].\n",
      "  warnings.warn(label_encoder_deprecation_msg, UserWarning)\n"
     ]
    },
    {
     "name": "stdout",
     "output_type": "stream",
     "text": [
      "[01:34:08] WARNING: ..\\src\\learner.cc:1095: Starting in XGBoost 1.3.0, the default evaluation metric used with the objective 'multi:softprob' was changed from 'merror' to 'mlogloss'. Explicitly set eval_metric if you'd like to restore the old behavior.\n",
      "[01:34:14] WARNING: ..\\src\\learner.cc:1095: Starting in XGBoost 1.3.0, the default evaluation metric used with the objective 'multi:softprob' was changed from 'merror' to 'mlogloss'. Explicitly set eval_metric if you'd like to restore the old behavior.\n",
      "[01:34:20] WARNING: ..\\src\\learner.cc:1095: Starting in XGBoost 1.3.0, the default evaluation metric used with the objective 'multi:softprob' was changed from 'merror' to 'mlogloss'. Explicitly set eval_metric if you'd like to restore the old behavior.\n",
      "[01:34:26] WARNING: ..\\src\\learner.cc:1095: Starting in XGBoost 1.3.0, the default evaluation metric used with the objective 'multi:softprob' was changed from 'merror' to 'mlogloss'. Explicitly set eval_metric if you'd like to restore the old behavior.\n",
      "[01:34:32] WARNING: ..\\src\\learner.cc:1095: Starting in XGBoost 1.3.0, the default evaluation metric used with the objective 'multi:softprob' was changed from 'merror' to 'mlogloss'. Explicitly set eval_metric if you'd like to restore the old behavior.\n",
      "[01:34:38] WARNING: ..\\src\\learner.cc:1095: Starting in XGBoost 1.3.0, the default evaluation metric used with the objective 'multi:softprob' was changed from 'merror' to 'mlogloss'. Explicitly set eval_metric if you'd like to restore the old behavior.\n",
      "[01:34:44] WARNING: ..\\src\\learner.cc:1095: Starting in XGBoost 1.3.0, the default evaluation metric used with the objective 'multi:softprob' was changed from 'merror' to 'mlogloss'. Explicitly set eval_metric if you'd like to restore the old behavior.\n",
      "[01:34:50] WARNING: ..\\src\\learner.cc:1095: Starting in XGBoost 1.3.0, the default evaluation metric used with the objective 'multi:softprob' was changed from 'merror' to 'mlogloss'. Explicitly set eval_metric if you'd like to restore the old behavior.\n",
      "[01:34:56] WARNING: ..\\src\\learner.cc:1095: Starting in XGBoost 1.3.0, the default evaluation metric used with the objective 'multi:softprob' was changed from 'merror' to 'mlogloss'. Explicitly set eval_metric if you'd like to restore the old behavior.\n",
      "[01:35:01] WARNING: ..\\src\\learner.cc:1095: Starting in XGBoost 1.3.0, the default evaluation metric used with the objective 'multi:softprob' was changed from 'merror' to 'mlogloss'. Explicitly set eval_metric if you'd like to restore the old behavior.\n"
     ]
    },
    {
     "name": "stderr",
     "output_type": "stream",
     "text": [
      "C:\\ProgramData\\Anaconda3\\lib\\site-packages\\xgboost\\data.py:112: UserWarning: Use subset (sliced data) of np.ndarray is not recommended because it will generate extra copies and increase memory consumption\n",
      "  warnings.warn(\n"
     ]
    },
    {
     "name": "stdout",
     "output_type": "stream",
     "text": [
      "fold: 3\n"
     ]
    },
    {
     "name": "stderr",
     "output_type": "stream",
     "text": [
      "C:\\ProgramData\\Anaconda3\\lib\\site-packages\\xgboost\\sklearn.py:1146: UserWarning: The use of label encoder in XGBClassifier is deprecated and will be removed in a future release. To remove this warning, do the following: 1) Pass option use_label_encoder=False when constructing XGBClassifier object; and 2) Encode your labels (y) as integers starting with 0, i.e. 0, 1, 2, ..., [num_class - 1].\n",
      "  warnings.warn(label_encoder_deprecation_msg, UserWarning)\n"
     ]
    },
    {
     "name": "stdout",
     "output_type": "stream",
     "text": [
      "[01:35:08] WARNING: ..\\src\\learner.cc:1095: Starting in XGBoost 1.3.0, the default evaluation metric used with the objective 'multi:softprob' was changed from 'merror' to 'mlogloss'. Explicitly set eval_metric if you'd like to restore the old behavior.\n",
      "[01:35:14] WARNING: ..\\src\\learner.cc:1095: Starting in XGBoost 1.3.0, the default evaluation metric used with the objective 'multi:softprob' was changed from 'merror' to 'mlogloss'. Explicitly set eval_metric if you'd like to restore the old behavior.\n",
      "[01:35:19] WARNING: ..\\src\\learner.cc:1095: Starting in XGBoost 1.3.0, the default evaluation metric used with the objective 'multi:softprob' was changed from 'merror' to 'mlogloss'. Explicitly set eval_metric if you'd like to restore the old behavior.\n",
      "[01:35:25] WARNING: ..\\src\\learner.cc:1095: Starting in XGBoost 1.3.0, the default evaluation metric used with the objective 'multi:softprob' was changed from 'merror' to 'mlogloss'. Explicitly set eval_metric if you'd like to restore the old behavior.\n",
      "[01:35:31] WARNING: ..\\src\\learner.cc:1095: Starting in XGBoost 1.3.0, the default evaluation metric used with the objective 'multi:softprob' was changed from 'merror' to 'mlogloss'. Explicitly set eval_metric if you'd like to restore the old behavior.\n",
      "[01:35:37] WARNING: ..\\src\\learner.cc:1095: Starting in XGBoost 1.3.0, the default evaluation metric used with the objective 'multi:softprob' was changed from 'merror' to 'mlogloss'. Explicitly set eval_metric if you'd like to restore the old behavior.\n",
      "[01:35:43] WARNING: ..\\src\\learner.cc:1095: Starting in XGBoost 1.3.0, the default evaluation metric used with the objective 'multi:softprob' was changed from 'merror' to 'mlogloss'. Explicitly set eval_metric if you'd like to restore the old behavior.\n",
      "[01:35:49] WARNING: ..\\src\\learner.cc:1095: Starting in XGBoost 1.3.0, the default evaluation metric used with the objective 'multi:softprob' was changed from 'merror' to 'mlogloss'. Explicitly set eval_metric if you'd like to restore the old behavior.\n",
      "[01:35:55] WARNING: ..\\src\\learner.cc:1095: Starting in XGBoost 1.3.0, the default evaluation metric used with the objective 'multi:softprob' was changed from 'merror' to 'mlogloss'. Explicitly set eval_metric if you'd like to restore the old behavior.\n",
      "[01:36:01] WARNING: ..\\src\\learner.cc:1095: Starting in XGBoost 1.3.0, the default evaluation metric used with the objective 'multi:softprob' was changed from 'merror' to 'mlogloss'. Explicitly set eval_metric if you'd like to restore the old behavior.\n"
     ]
    },
    {
     "name": "stderr",
     "output_type": "stream",
     "text": [
      "C:\\ProgramData\\Anaconda3\\lib\\site-packages\\xgboost\\data.py:112: UserWarning: Use subset (sliced data) of np.ndarray is not recommended because it will generate extra copies and increase memory consumption\n",
      "  warnings.warn(\n"
     ]
    },
    {
     "name": "stdout",
     "output_type": "stream",
     "text": [
      "fold: 4\n"
     ]
    },
    {
     "name": "stderr",
     "output_type": "stream",
     "text": [
      "C:\\ProgramData\\Anaconda3\\lib\\site-packages\\xgboost\\sklearn.py:1146: UserWarning: The use of label encoder in XGBClassifier is deprecated and will be removed in a future release. To remove this warning, do the following: 1) Pass option use_label_encoder=False when constructing XGBClassifier object; and 2) Encode your labels (y) as integers starting with 0, i.e. 0, 1, 2, ..., [num_class - 1].\n",
      "  warnings.warn(label_encoder_deprecation_msg, UserWarning)\n"
     ]
    },
    {
     "name": "stdout",
     "output_type": "stream",
     "text": [
      "[01:36:07] WARNING: ..\\src\\learner.cc:1095: Starting in XGBoost 1.3.0, the default evaluation metric used with the objective 'multi:softprob' was changed from 'merror' to 'mlogloss'. Explicitly set eval_metric if you'd like to restore the old behavior.\n",
      "[01:36:13] WARNING: ..\\src\\learner.cc:1095: Starting in XGBoost 1.3.0, the default evaluation metric used with the objective 'multi:softprob' was changed from 'merror' to 'mlogloss'. Explicitly set eval_metric if you'd like to restore the old behavior.\n",
      "[01:36:19] WARNING: ..\\src\\learner.cc:1095: Starting in XGBoost 1.3.0, the default evaluation metric used with the objective 'multi:softprob' was changed from 'merror' to 'mlogloss'. Explicitly set eval_metric if you'd like to restore the old behavior.\n",
      "[01:36:25] WARNING: ..\\src\\learner.cc:1095: Starting in XGBoost 1.3.0, the default evaluation metric used with the objective 'multi:softprob' was changed from 'merror' to 'mlogloss'. Explicitly set eval_metric if you'd like to restore the old behavior.\n",
      "[01:36:32] WARNING: ..\\src\\learner.cc:1095: Starting in XGBoost 1.3.0, the default evaluation metric used with the objective 'multi:softprob' was changed from 'merror' to 'mlogloss'. Explicitly set eval_metric if you'd like to restore the old behavior.\n",
      "[01:36:38] WARNING: ..\\src\\learner.cc:1095: Starting in XGBoost 1.3.0, the default evaluation metric used with the objective 'multi:softprob' was changed from 'merror' to 'mlogloss'. Explicitly set eval_metric if you'd like to restore the old behavior.\n",
      "[01:36:44] WARNING: ..\\src\\learner.cc:1095: Starting in XGBoost 1.3.0, the default evaluation metric used with the objective 'multi:softprob' was changed from 'merror' to 'mlogloss'. Explicitly set eval_metric if you'd like to restore the old behavior.\n",
      "[01:36:51] WARNING: ..\\src\\learner.cc:1095: Starting in XGBoost 1.3.0, the default evaluation metric used with the objective 'multi:softprob' was changed from 'merror' to 'mlogloss'. Explicitly set eval_metric if you'd like to restore the old behavior.\n",
      "[01:36:57] WARNING: ..\\src\\learner.cc:1095: Starting in XGBoost 1.3.0, the default evaluation metric used with the objective 'multi:softprob' was changed from 'merror' to 'mlogloss'. Explicitly set eval_metric if you'd like to restore the old behavior.\n",
      "[01:37:03] WARNING: ..\\src\\learner.cc:1095: Starting in XGBoost 1.3.0, the default evaluation metric used with the objective 'multi:softprob' was changed from 'merror' to 'mlogloss'. Explicitly set eval_metric if you'd like to restore the old behavior.\n"
     ]
    },
    {
     "name": "stderr",
     "output_type": "stream",
     "text": [
      "C:\\ProgramData\\Anaconda3\\lib\\site-packages\\xgboost\\data.py:112: UserWarning: Use subset (sliced data) of np.ndarray is not recommended because it will generate extra copies and increase memory consumption\n",
      "  warnings.warn(\n"
     ]
    },
    {
     "name": "stdout",
     "output_type": "stream",
     "text": [
      "fold: 5\n"
     ]
    },
    {
     "name": "stderr",
     "output_type": "stream",
     "text": [
      "C:\\ProgramData\\Anaconda3\\lib\\site-packages\\xgboost\\sklearn.py:1146: UserWarning: The use of label encoder in XGBClassifier is deprecated and will be removed in a future release. To remove this warning, do the following: 1) Pass option use_label_encoder=False when constructing XGBClassifier object; and 2) Encode your labels (y) as integers starting with 0, i.e. 0, 1, 2, ..., [num_class - 1].\n",
      "  warnings.warn(label_encoder_deprecation_msg, UserWarning)\n"
     ]
    },
    {
     "name": "stdout",
     "output_type": "stream",
     "text": [
      "[01:37:09] WARNING: ..\\src\\learner.cc:1095: Starting in XGBoost 1.3.0, the default evaluation metric used with the objective 'multi:softprob' was changed from 'merror' to 'mlogloss'. Explicitly set eval_metric if you'd like to restore the old behavior.\n",
      "[01:37:15] WARNING: ..\\src\\learner.cc:1095: Starting in XGBoost 1.3.0, the default evaluation metric used with the objective 'multi:softprob' was changed from 'merror' to 'mlogloss'. Explicitly set eval_metric if you'd like to restore the old behavior.\n",
      "[01:37:22] WARNING: ..\\src\\learner.cc:1095: Starting in XGBoost 1.3.0, the default evaluation metric used with the objective 'multi:softprob' was changed from 'merror' to 'mlogloss'. Explicitly set eval_metric if you'd like to restore the old behavior.\n",
      "[01:37:27] WARNING: ..\\src\\learner.cc:1095: Starting in XGBoost 1.3.0, the default evaluation metric used with the objective 'multi:softprob' was changed from 'merror' to 'mlogloss'. Explicitly set eval_metric if you'd like to restore the old behavior.\n",
      "[01:37:34] WARNING: ..\\src\\learner.cc:1095: Starting in XGBoost 1.3.0, the default evaluation metric used with the objective 'multi:softprob' was changed from 'merror' to 'mlogloss'. Explicitly set eval_metric if you'd like to restore the old behavior.\n",
      "[01:37:40] WARNING: ..\\src\\learner.cc:1095: Starting in XGBoost 1.3.0, the default evaluation metric used with the objective 'multi:softprob' was changed from 'merror' to 'mlogloss'. Explicitly set eval_metric if you'd like to restore the old behavior.\n",
      "[01:37:46] WARNING: ..\\src\\learner.cc:1095: Starting in XGBoost 1.3.0, the default evaluation metric used with the objective 'multi:softprob' was changed from 'merror' to 'mlogloss'. Explicitly set eval_metric if you'd like to restore the old behavior.\n",
      "[01:37:52] WARNING: ..\\src\\learner.cc:1095: Starting in XGBoost 1.3.0, the default evaluation metric used with the objective 'multi:softprob' was changed from 'merror' to 'mlogloss'. Explicitly set eval_metric if you'd like to restore the old behavior.\n",
      "[01:37:58] WARNING: ..\\src\\learner.cc:1095: Starting in XGBoost 1.3.0, the default evaluation metric used with the objective 'multi:softprob' was changed from 'merror' to 'mlogloss'. Explicitly set eval_metric if you'd like to restore the old behavior.\n",
      "[01:38:04] WARNING: ..\\src\\learner.cc:1095: Starting in XGBoost 1.3.0, the default evaluation metric used with the objective 'multi:softprob' was changed from 'merror' to 'mlogloss'. Explicitly set eval_metric if you'd like to restore the old behavior.\n"
     ]
    },
    {
     "name": "stderr",
     "output_type": "stream",
     "text": [
      "C:\\ProgramData\\Anaconda3\\lib\\site-packages\\xgboost\\data.py:112: UserWarning: Use subset (sliced data) of np.ndarray is not recommended because it will generate extra copies and increase memory consumption\n",
      "  warnings.warn(\n"
     ]
    },
    {
     "name": "stdout",
     "output_type": "stream",
     "text": [
      "fold: 6\n"
     ]
    },
    {
     "name": "stderr",
     "output_type": "stream",
     "text": [
      "C:\\ProgramData\\Anaconda3\\lib\\site-packages\\xgboost\\sklearn.py:1146: UserWarning: The use of label encoder in XGBClassifier is deprecated and will be removed in a future release. To remove this warning, do the following: 1) Pass option use_label_encoder=False when constructing XGBClassifier object; and 2) Encode your labels (y) as integers starting with 0, i.e. 0, 1, 2, ..., [num_class - 1].\n",
      "  warnings.warn(label_encoder_deprecation_msg, UserWarning)\n"
     ]
    },
    {
     "name": "stdout",
     "output_type": "stream",
     "text": [
      "[01:38:10] WARNING: ..\\src\\learner.cc:1095: Starting in XGBoost 1.3.0, the default evaluation metric used with the objective 'multi:softprob' was changed from 'merror' to 'mlogloss'. Explicitly set eval_metric if you'd like to restore the old behavior.\n",
      "[01:38:16] WARNING: ..\\src\\learner.cc:1095: Starting in XGBoost 1.3.0, the default evaluation metric used with the objective 'multi:softprob' was changed from 'merror' to 'mlogloss'. Explicitly set eval_metric if you'd like to restore the old behavior.\n",
      "[01:38:22] WARNING: ..\\src\\learner.cc:1095: Starting in XGBoost 1.3.0, the default evaluation metric used with the objective 'multi:softprob' was changed from 'merror' to 'mlogloss'. Explicitly set eval_metric if you'd like to restore the old behavior.\n",
      "[01:38:29] WARNING: ..\\src\\learner.cc:1095: Starting in XGBoost 1.3.0, the default evaluation metric used with the objective 'multi:softprob' was changed from 'merror' to 'mlogloss'. Explicitly set eval_metric if you'd like to restore the old behavior.\n",
      "[01:38:35] WARNING: ..\\src\\learner.cc:1095: Starting in XGBoost 1.3.0, the default evaluation metric used with the objective 'multi:softprob' was changed from 'merror' to 'mlogloss'. Explicitly set eval_metric if you'd like to restore the old behavior.\n",
      "[01:38:41] WARNING: ..\\src\\learner.cc:1095: Starting in XGBoost 1.3.0, the default evaluation metric used with the objective 'multi:softprob' was changed from 'merror' to 'mlogloss'. Explicitly set eval_metric if you'd like to restore the old behavior.\n",
      "[01:38:46] WARNING: ..\\src\\learner.cc:1095: Starting in XGBoost 1.3.0, the default evaluation metric used with the objective 'multi:softprob' was changed from 'merror' to 'mlogloss'. Explicitly set eval_metric if you'd like to restore the old behavior.\n",
      "[01:38:52] WARNING: ..\\src\\learner.cc:1095: Starting in XGBoost 1.3.0, the default evaluation metric used with the objective 'multi:softprob' was changed from 'merror' to 'mlogloss'. Explicitly set eval_metric if you'd like to restore the old behavior.\n",
      "[01:38:58] WARNING: ..\\src\\learner.cc:1095: Starting in XGBoost 1.3.0, the default evaluation metric used with the objective 'multi:softprob' was changed from 'merror' to 'mlogloss'. Explicitly set eval_metric if you'd like to restore the old behavior.\n",
      "[01:39:04] WARNING: ..\\src\\learner.cc:1095: Starting in XGBoost 1.3.0, the default evaluation metric used with the objective 'multi:softprob' was changed from 'merror' to 'mlogloss'. Explicitly set eval_metric if you'd like to restore the old behavior.\n"
     ]
    },
    {
     "name": "stderr",
     "output_type": "stream",
     "text": [
      "C:\\ProgramData\\Anaconda3\\lib\\site-packages\\xgboost\\data.py:112: UserWarning: Use subset (sliced data) of np.ndarray is not recommended because it will generate extra copies and increase memory consumption\n",
      "  warnings.warn(\n"
     ]
    },
    {
     "name": "stdout",
     "output_type": "stream",
     "text": [
      "fold: 7\n"
     ]
    },
    {
     "name": "stderr",
     "output_type": "stream",
     "text": [
      "C:\\ProgramData\\Anaconda3\\lib\\site-packages\\xgboost\\sklearn.py:1146: UserWarning: The use of label encoder in XGBClassifier is deprecated and will be removed in a future release. To remove this warning, do the following: 1) Pass option use_label_encoder=False when constructing XGBClassifier object; and 2) Encode your labels (y) as integers starting with 0, i.e. 0, 1, 2, ..., [num_class - 1].\n",
      "  warnings.warn(label_encoder_deprecation_msg, UserWarning)\n"
     ]
    },
    {
     "name": "stdout",
     "output_type": "stream",
     "text": [
      "[01:39:11] WARNING: ..\\src\\learner.cc:1095: Starting in XGBoost 1.3.0, the default evaluation metric used with the objective 'multi:softprob' was changed from 'merror' to 'mlogloss'. Explicitly set eval_metric if you'd like to restore the old behavior.\n",
      "[01:39:16] WARNING: ..\\src\\learner.cc:1095: Starting in XGBoost 1.3.0, the default evaluation metric used with the objective 'multi:softprob' was changed from 'merror' to 'mlogloss'. Explicitly set eval_metric if you'd like to restore the old behavior.\n",
      "[01:39:22] WARNING: ..\\src\\learner.cc:1095: Starting in XGBoost 1.3.0, the default evaluation metric used with the objective 'multi:softprob' was changed from 'merror' to 'mlogloss'. Explicitly set eval_metric if you'd like to restore the old behavior.\n",
      "[01:39:28] WARNING: ..\\src\\learner.cc:1095: Starting in XGBoost 1.3.0, the default evaluation metric used with the objective 'multi:softprob' was changed from 'merror' to 'mlogloss'. Explicitly set eval_metric if you'd like to restore the old behavior.\n",
      "[01:39:34] WARNING: ..\\src\\learner.cc:1095: Starting in XGBoost 1.3.0, the default evaluation metric used with the objective 'multi:softprob' was changed from 'merror' to 'mlogloss'. Explicitly set eval_metric if you'd like to restore the old behavior.\n",
      "[01:39:40] WARNING: ..\\src\\learner.cc:1095: Starting in XGBoost 1.3.0, the default evaluation metric used with the objective 'multi:softprob' was changed from 'merror' to 'mlogloss'. Explicitly set eval_metric if you'd like to restore the old behavior.\n",
      "[01:39:47] WARNING: ..\\src\\learner.cc:1095: Starting in XGBoost 1.3.0, the default evaluation metric used with the objective 'multi:softprob' was changed from 'merror' to 'mlogloss'. Explicitly set eval_metric if you'd like to restore the old behavior.\n",
      "[01:39:53] WARNING: ..\\src\\learner.cc:1095: Starting in XGBoost 1.3.0, the default evaluation metric used with the objective 'multi:softprob' was changed from 'merror' to 'mlogloss'. Explicitly set eval_metric if you'd like to restore the old behavior.\n",
      "[01:39:59] WARNING: ..\\src\\learner.cc:1095: Starting in XGBoost 1.3.0, the default evaluation metric used with the objective 'multi:softprob' was changed from 'merror' to 'mlogloss'. Explicitly set eval_metric if you'd like to restore the old behavior.\n",
      "[01:40:05] WARNING: ..\\src\\learner.cc:1095: Starting in XGBoost 1.3.0, the default evaluation metric used with the objective 'multi:softprob' was changed from 'merror' to 'mlogloss'. Explicitly set eval_metric if you'd like to restore the old behavior.\n"
     ]
    },
    {
     "name": "stderr",
     "output_type": "stream",
     "text": [
      "C:\\ProgramData\\Anaconda3\\lib\\site-packages\\xgboost\\data.py:112: UserWarning: Use subset (sliced data) of np.ndarray is not recommended because it will generate extra copies and increase memory consumption\n",
      "  warnings.warn(\n"
     ]
    },
    {
     "name": "stdout",
     "output_type": "stream",
     "text": [
      "fold: 8\n"
     ]
    },
    {
     "name": "stderr",
     "output_type": "stream",
     "text": [
      "C:\\ProgramData\\Anaconda3\\lib\\site-packages\\xgboost\\sklearn.py:1146: UserWarning: The use of label encoder in XGBClassifier is deprecated and will be removed in a future release. To remove this warning, do the following: 1) Pass option use_label_encoder=False when constructing XGBClassifier object; and 2) Encode your labels (y) as integers starting with 0, i.e. 0, 1, 2, ..., [num_class - 1].\n",
      "  warnings.warn(label_encoder_deprecation_msg, UserWarning)\n"
     ]
    },
    {
     "name": "stdout",
     "output_type": "stream",
     "text": [
      "[01:40:11] WARNING: ..\\src\\learner.cc:1095: Starting in XGBoost 1.3.0, the default evaluation metric used with the objective 'multi:softprob' was changed from 'merror' to 'mlogloss'. Explicitly set eval_metric if you'd like to restore the old behavior.\n",
      "[01:40:17] WARNING: ..\\src\\learner.cc:1095: Starting in XGBoost 1.3.0, the default evaluation metric used with the objective 'multi:softprob' was changed from 'merror' to 'mlogloss'. Explicitly set eval_metric if you'd like to restore the old behavior.\n",
      "[01:40:23] WARNING: ..\\src\\learner.cc:1095: Starting in XGBoost 1.3.0, the default evaluation metric used with the objective 'multi:softprob' was changed from 'merror' to 'mlogloss'. Explicitly set eval_metric if you'd like to restore the old behavior.\n",
      "[01:40:29] WARNING: ..\\src\\learner.cc:1095: Starting in XGBoost 1.3.0, the default evaluation metric used with the objective 'multi:softprob' was changed from 'merror' to 'mlogloss'. Explicitly set eval_metric if you'd like to restore the old behavior.\n",
      "[01:40:35] WARNING: ..\\src\\learner.cc:1095: Starting in XGBoost 1.3.0, the default evaluation metric used with the objective 'multi:softprob' was changed from 'merror' to 'mlogloss'. Explicitly set eval_metric if you'd like to restore the old behavior.\n",
      "[01:40:41] WARNING: ..\\src\\learner.cc:1095: Starting in XGBoost 1.3.0, the default evaluation metric used with the objective 'multi:softprob' was changed from 'merror' to 'mlogloss'. Explicitly set eval_metric if you'd like to restore the old behavior.\n",
      "[01:40:47] WARNING: ..\\src\\learner.cc:1095: Starting in XGBoost 1.3.0, the default evaluation metric used with the objective 'multi:softprob' was changed from 'merror' to 'mlogloss'. Explicitly set eval_metric if you'd like to restore the old behavior.\n",
      "[01:40:53] WARNING: ..\\src\\learner.cc:1095: Starting in XGBoost 1.3.0, the default evaluation metric used with the objective 'multi:softprob' was changed from 'merror' to 'mlogloss'. Explicitly set eval_metric if you'd like to restore the old behavior.\n",
      "[01:40:59] WARNING: ..\\src\\learner.cc:1095: Starting in XGBoost 1.3.0, the default evaluation metric used with the objective 'multi:softprob' was changed from 'merror' to 'mlogloss'. Explicitly set eval_metric if you'd like to restore the old behavior.\n",
      "[01:41:06] WARNING: ..\\src\\learner.cc:1095: Starting in XGBoost 1.3.0, the default evaluation metric used with the objective 'multi:softprob' was changed from 'merror' to 'mlogloss'. Explicitly set eval_metric if you'd like to restore the old behavior.\n"
     ]
    },
    {
     "name": "stderr",
     "output_type": "stream",
     "text": [
      "C:\\ProgramData\\Anaconda3\\lib\\site-packages\\xgboost\\data.py:112: UserWarning: Use subset (sliced data) of np.ndarray is not recommended because it will generate extra copies and increase memory consumption\n",
      "  warnings.warn(\n"
     ]
    },
    {
     "name": "stdout",
     "output_type": "stream",
     "text": [
      "fold: 9\n"
     ]
    },
    {
     "name": "stderr",
     "output_type": "stream",
     "text": [
      "C:\\ProgramData\\Anaconda3\\lib\\site-packages\\xgboost\\sklearn.py:1146: UserWarning: The use of label encoder in XGBClassifier is deprecated and will be removed in a future release. To remove this warning, do the following: 1) Pass option use_label_encoder=False when constructing XGBClassifier object; and 2) Encode your labels (y) as integers starting with 0, i.e. 0, 1, 2, ..., [num_class - 1].\n",
      "  warnings.warn(label_encoder_deprecation_msg, UserWarning)\n"
     ]
    },
    {
     "name": "stdout",
     "output_type": "stream",
     "text": [
      "[01:41:14] WARNING: ..\\src\\learner.cc:1095: Starting in XGBoost 1.3.0, the default evaluation metric used with the objective 'multi:softprob' was changed from 'merror' to 'mlogloss'. Explicitly set eval_metric if you'd like to restore the old behavior.\n",
      "[01:41:20] WARNING: ..\\src\\learner.cc:1095: Starting in XGBoost 1.3.0, the default evaluation metric used with the objective 'multi:softprob' was changed from 'merror' to 'mlogloss'. Explicitly set eval_metric if you'd like to restore the old behavior.\n",
      "[01:41:26] WARNING: ..\\src\\learner.cc:1095: Starting in XGBoost 1.3.0, the default evaluation metric used with the objective 'multi:softprob' was changed from 'merror' to 'mlogloss'. Explicitly set eval_metric if you'd like to restore the old behavior.\n",
      "[01:41:33] WARNING: ..\\src\\learner.cc:1095: Starting in XGBoost 1.3.0, the default evaluation metric used with the objective 'multi:softprob' was changed from 'merror' to 'mlogloss'. Explicitly set eval_metric if you'd like to restore the old behavior.\n",
      "[01:41:39] WARNING: ..\\src\\learner.cc:1095: Starting in XGBoost 1.3.0, the default evaluation metric used with the objective 'multi:softprob' was changed from 'merror' to 'mlogloss'. Explicitly set eval_metric if you'd like to restore the old behavior.\n",
      "[01:41:44] WARNING: ..\\src\\learner.cc:1095: Starting in XGBoost 1.3.0, the default evaluation metric used with the objective 'multi:softprob' was changed from 'merror' to 'mlogloss'. Explicitly set eval_metric if you'd like to restore the old behavior.\n",
      "[01:41:50] WARNING: ..\\src\\learner.cc:1095: Starting in XGBoost 1.3.0, the default evaluation metric used with the objective 'multi:softprob' was changed from 'merror' to 'mlogloss'. Explicitly set eval_metric if you'd like to restore the old behavior.\n",
      "[01:41:57] WARNING: ..\\src\\learner.cc:1095: Starting in XGBoost 1.3.0, the default evaluation metric used with the objective 'multi:softprob' was changed from 'merror' to 'mlogloss'. Explicitly set eval_metric if you'd like to restore the old behavior.\n",
      "[01:42:05] WARNING: ..\\src\\learner.cc:1095: Starting in XGBoost 1.3.0, the default evaluation metric used with the objective 'multi:softprob' was changed from 'merror' to 'mlogloss'. Explicitly set eval_metric if you'd like to restore the old behavior.\n",
      "[01:42:12] WARNING: ..\\src\\learner.cc:1095: Starting in XGBoost 1.3.0, the default evaluation metric used with the objective 'multi:softprob' was changed from 'merror' to 'mlogloss'. Explicitly set eval_metric if you'd like to restore the old behavior.\n"
     ]
    },
    {
     "name": "stderr",
     "output_type": "stream",
     "text": [
      "C:\\ProgramData\\Anaconda3\\lib\\site-packages\\xgboost\\data.py:112: UserWarning: Use subset (sliced data) of np.ndarray is not recommended because it will generate extra copies and increase memory consumption\n",
      "  warnings.warn(\n"
     ]
    },
    {
     "data": {
      "text/plain": [
       "[0.6144117647058824, 0.44118715495574196]"
      ]
     },
     "execution_count": 606,
     "metadata": {},
     "output_type": "execute_result"
    }
   ],
   "source": [
    "tst.k_fold(bclf,train_count.merged_features,train_count.merged_labels,10)"
   ]
  },
  {
   "cell_type": "markdown",
   "id": "13038074",
   "metadata": {},
   "source": [
    "#### showing results"
   ]
  },
  {
   "cell_type": "code",
   "execution_count": 209,
   "id": "3e2775a7",
   "metadata": {},
   "outputs": [],
   "source": [
    "def show_learning_curve(model_name,datas):\n",
    "    x_tick=[iter/10 for iter in datas[0]]\n",
    "    plt.figure(facecolor='#FFFFFF')\n",
    "    plt.title('The learning curve of '+model_name+' model')\n",
    "    plt.xlabel(\"percentage of train dataset used\")\n",
    "    plt.ylabel(\"accuracy and f1\")\n",
    "    \n",
    "    plt.plot(x_tick, datas[1], marker='*', ls='-', label='acc-train')   \n",
    "    plt.plot(x_tick, datas[2], marker='*', ls='-', label='acc-test')   \n",
    "    plt.plot(x_tick, datas[3], marker='o', ls='-', label='f1-train')   \n",
    "    plt.plot(x_tick, datas[4], marker='o', ls='-', label='f1-test')\n",
    "    plt.legend()\n",
    "    plt.show()"
   ]
  },
  {
   "cell_type": "code",
   "execution_count": 218,
   "id": "364dd3d7",
   "metadata": {},
   "outputs": [
    {
     "data": {
      "image/png": "[encoded data removed]",
      "text/plain": [
       "<Figure size 432x288 with 1 Axes>"
      ]
     },
     "metadata": {},
     "output_type": "display_data"
    }
   ],
   "source": [
    "show_learning_curve(\"multinomial naive bayes\",learning_nb)"
   ]
  },
  {
   "cell_type": "code",
   "execution_count": 400,
   "id": "d2a2477c",
   "metadata": {},
   "outputs": [
    {
     "data": {
      "image/png": "[encoded data removed]",
      "text/plain": [
       "<Figure size 432x288 with 1 Axes>"
      ]
     },
     "metadata": {},
     "output_type": "display_data"
    }
   ],
   "source": [
    "show_learning_curve(\"raw xgboost\",learning_xgb_raw)"
   ]
  },
  {
   "cell_type": "code",
   "execution_count": 229,
   "id": "763ca949",
   "metadata": {},
   "outputs": [
    {
     "data": {
      "image/png": "[encoded data removed]",
      "text/plain": [
       "<Figure size 432x288 with 1 Axes>"
      ]
     },
     "metadata": {},
     "output_type": "display_data"
    }
   ],
   "source": [
    "show_learning_curve(\"turned xgboost\",learning_xgb_turned)"
   ]
  },
  {
   "cell_type": "code",
   "execution_count": 620,
   "id": "7061a1c2",
   "metadata": {},
   "outputs": [
    {
     "name": "stdout",
     "output_type": "stream",
     "text": [
      "k=0 iter=1\n",
      "[10:32:36] WARNING: ..\\src\\learner.cc:1095: Starting in XGBoost 1.3.0, the default evaluation metric used with the objective 'multi:softprob' was changed from 'merror' to 'mlogloss'. Explicitly set eval_metric if you'd like to restore the old behavior.\n"
     ]
    },
    {
     "name": "stderr",
     "output_type": "stream",
     "text": [
      "C:\\ProgramData\\Anaconda3\\lib\\site-packages\\xgboost\\sklearn.py:1146: UserWarning: The use of label encoder in XGBClassifier is deprecated and will be removed in a future release. To remove this warning, do the following: 1) Pass option use_label_encoder=False when constructing XGBClassifier object; and 2) Encode your labels (y) as integers starting with 0, i.e. 0, 1, 2, ..., [num_class - 1].\n",
      "  warnings.warn(label_encoder_deprecation_msg, UserWarning)\n"
     ]
    },
    {
     "name": "stdout",
     "output_type": "stream",
     "text": [
      "[10:32:36] WARNING: ..\\src\\learner.cc:1095: Starting in XGBoost 1.3.0, the default evaluation metric used with the objective 'multi:softprob' was changed from 'merror' to 'mlogloss'. Explicitly set eval_metric if you'd like to restore the old behavior.\n",
      "[10:32:37] WARNING: ..\\src\\learner.cc:1095: Starting in XGBoost 1.3.0, the default evaluation metric used with the objective 'multi:softprob' was changed from 'merror' to 'mlogloss'. Explicitly set eval_metric if you'd like to restore the old behavior.\n",
      "[10:32:37] WARNING: ..\\src\\learner.cc:1095: Starting in XGBoost 1.3.0, the default evaluation metric used with the objective 'multi:softprob' was changed from 'merror' to 'mlogloss'. Explicitly set eval_metric if you'd like to restore the old behavior.\n",
      "[10:32:37] WARNING: ..\\src\\learner.cc:1095: Starting in XGBoost 1.3.0, the default evaluation metric used with the objective 'multi:softprob' was changed from 'merror' to 'mlogloss'. Explicitly set eval_metric if you'd like to restore the old behavior.\n",
      "[10:32:38] WARNING: ..\\src\\learner.cc:1095: Starting in XGBoost 1.3.0, the default evaluation metric used with the objective 'multi:softprob' was changed from 'merror' to 'mlogloss'. Explicitly set eval_metric if you'd like to restore the old behavior.\n",
      "[10:32:38] WARNING: ..\\src\\learner.cc:1095: Starting in XGBoost 1.3.0, the default evaluation metric used with the objective 'multi:softprob' was changed from 'merror' to 'mlogloss'. Explicitly set eval_metric if you'd like to restore the old behavior.\n",
      "[10:32:39] WARNING: ..\\src\\learner.cc:1095: Starting in XGBoost 1.3.0, the default evaluation metric used with the objective 'multi:softprob' was changed from 'merror' to 'mlogloss'. Explicitly set eval_metric if you'd like to restore the old behavior.\n",
      "[10:32:39] WARNING: ..\\src\\learner.cc:1095: Starting in XGBoost 1.3.0, the default evaluation metric used with the objective 'multi:softprob' was changed from 'merror' to 'mlogloss'. Explicitly set eval_metric if you'd like to restore the old behavior.\n",
      "[10:32:39] WARNING: ..\\src\\learner.cc:1095: Starting in XGBoost 1.3.0, the default evaluation metric used with the objective 'multi:softprob' was changed from 'merror' to 'mlogloss'. Explicitly set eval_metric if you'd like to restore the old behavior.\n"
     ]
    },
    {
     "name": "stderr",
     "output_type": "stream",
     "text": [
      "C:\\ProgramData\\Anaconda3\\lib\\site-packages\\xgboost\\data.py:112: UserWarning: Use subset (sliced data) of np.ndarray is not recommended because it will generate extra copies and increase memory consumption\n",
      "  warnings.warn(\n",
      "C:\\ProgramData\\Anaconda3\\lib\\site-packages\\xgboost\\data.py:112: UserWarning: Use subset (sliced data) of np.ndarray is not recommended because it will generate extra copies and increase memory consumption\n",
      "  warnings.warn(\n"
     ]
    },
    {
     "name": "stdout",
     "output_type": "stream",
     "text": [
      "k=0 iter=2\n",
      "[10:32:40] WARNING: ..\\src\\learner.cc:1095: Starting in XGBoost 1.3.0, the default evaluation metric used with the objective 'multi:softprob' was changed from 'merror' to 'mlogloss'. Explicitly set eval_metric if you'd like to restore the old behavior.\n"
     ]
    },
    {
     "name": "stderr",
     "output_type": "stream",
     "text": [
      "C:\\ProgramData\\Anaconda3\\lib\\site-packages\\xgboost\\sklearn.py:1146: UserWarning: The use of label encoder in XGBClassifier is deprecated and will be removed in a future release. To remove this warning, do the following: 1) Pass option use_label_encoder=False when constructing XGBClassifier object; and 2) Encode your labels (y) as integers starting with 0, i.e. 0, 1, 2, ..., [num_class - 1].\n",
      "  warnings.warn(label_encoder_deprecation_msg, UserWarning)\n"
     ]
    },
    {
     "name": "stdout",
     "output_type": "stream",
     "text": [
      "[10:32:41] WARNING: ..\\src\\learner.cc:1095: Starting in XGBoost 1.3.0, the default evaluation metric used with the objective 'multi:softprob' was changed from 'merror' to 'mlogloss'. Explicitly set eval_metric if you'd like to restore the old behavior.\n",
      "[10:32:41] WARNING: ..\\src\\learner.cc:1095: Starting in XGBoost 1.3.0, the default evaluation metric used with the objective 'multi:softprob' was changed from 'merror' to 'mlogloss'. Explicitly set eval_metric if you'd like to restore the old behavior.\n",
      "[10:32:42] WARNING: ..\\src\\learner.cc:1095: Starting in XGBoost 1.3.0, the default evaluation metric used with the objective 'multi:softprob' was changed from 'merror' to 'mlogloss'. Explicitly set eval_metric if you'd like to restore the old behavior.\n",
      "[10:32:43] WARNING: ..\\src\\learner.cc:1095: Starting in XGBoost 1.3.0, the default evaluation metric used with the objective 'multi:softprob' was changed from 'merror' to 'mlogloss'. Explicitly set eval_metric if you'd like to restore the old behavior.\n",
      "[10:32:44] WARNING: ..\\src\\learner.cc:1095: Starting in XGBoost 1.3.0, the default evaluation metric used with the objective 'multi:softprob' was changed from 'merror' to 'mlogloss'. Explicitly set eval_metric if you'd like to restore the old behavior.\n",
      "[10:32:45] WARNING: ..\\src\\learner.cc:1095: Starting in XGBoost 1.3.0, the default evaluation metric used with the objective 'multi:softprob' was changed from 'merror' to 'mlogloss'. Explicitly set eval_metric if you'd like to restore the old behavior.\n",
      "[10:32:45] WARNING: ..\\src\\learner.cc:1095: Starting in XGBoost 1.3.0, the default evaluation metric used with the objective 'multi:softprob' was changed from 'merror' to 'mlogloss'. Explicitly set eval_metric if you'd like to restore the old behavior.\n",
      "[10:32:46] WARNING: ..\\src\\learner.cc:1095: Starting in XGBoost 1.3.0, the default evaluation metric used with the objective 'multi:softprob' was changed from 'merror' to 'mlogloss'. Explicitly set eval_metric if you'd like to restore the old behavior.\n",
      "[10:32:47] WARNING: ..\\src\\learner.cc:1095: Starting in XGBoost 1.3.0, the default evaluation metric used with the objective 'multi:softprob' was changed from 'merror' to 'mlogloss'. Explicitly set eval_metric if you'd like to restore the old behavior.\n"
     ]
    },
    {
     "name": "stderr",
     "output_type": "stream",
     "text": [
      "C:\\ProgramData\\Anaconda3\\lib\\site-packages\\xgboost\\data.py:112: UserWarning: Use subset (sliced data) of np.ndarray is not recommended because it will generate extra copies and increase memory consumption\n",
      "  warnings.warn(\n",
      "C:\\ProgramData\\Anaconda3\\lib\\site-packages\\xgboost\\data.py:112: UserWarning: Use subset (sliced data) of np.ndarray is not recommended because it will generate extra copies and increase memory consumption\n",
      "  warnings.warn(\n"
     ]
    },
    {
     "name": "stdout",
     "output_type": "stream",
     "text": [
      "k=0 iter=3\n",
      "[10:32:48] WARNING: ..\\src\\learner.cc:1095: Starting in XGBoost 1.3.0, the default evaluation metric used with the objective 'multi:softprob' was changed from 'merror' to 'mlogloss'. Explicitly set eval_metric if you'd like to restore the old behavior.\n"
     ]
    },
    {
     "name": "stderr",
     "output_type": "stream",
     "text": [
      "C:\\ProgramData\\Anaconda3\\lib\\site-packages\\xgboost\\sklearn.py:1146: UserWarning: The use of label encoder in XGBClassifier is deprecated and will be removed in a future release. To remove this warning, do the following: 1) Pass option use_label_encoder=False when constructing XGBClassifier object; and 2) Encode your labels (y) as integers starting with 0, i.e. 0, 1, 2, ..., [num_class - 1].\n",
      "  warnings.warn(label_encoder_deprecation_msg, UserWarning)\n"
     ]
    },
    {
     "name": "stdout",
     "output_type": "stream",
     "text": [
      "[10:32:49] WARNING: ..\\src\\learner.cc:1095: Starting in XGBoost 1.3.0, the default evaluation metric used with the objective 'multi:softprob' was changed from 'merror' to 'mlogloss'. Explicitly set eval_metric if you'd like to restore the old behavior.\n",
      "[10:32:51] WARNING: ..\\src\\learner.cc:1095: Starting in XGBoost 1.3.0, the default evaluation metric used with the objective 'multi:softprob' was changed from 'merror' to 'mlogloss'. Explicitly set eval_metric if you'd like to restore the old behavior.\n",
      "[10:32:52] WARNING: ..\\src\\learner.cc:1095: Starting in XGBoost 1.3.0, the default evaluation metric used with the objective 'multi:softprob' was changed from 'merror' to 'mlogloss'. Explicitly set eval_metric if you'd like to restore the old behavior.\n",
      "[10:32:53] WARNING: ..\\src\\learner.cc:1095: Starting in XGBoost 1.3.0, the default evaluation metric used with the objective 'multi:softprob' was changed from 'merror' to 'mlogloss'. Explicitly set eval_metric if you'd like to restore the old behavior.\n",
      "[10:32:54] WARNING: ..\\src\\learner.cc:1095: Starting in XGBoost 1.3.0, the default evaluation metric used with the objective 'multi:softprob' was changed from 'merror' to 'mlogloss'. Explicitly set eval_metric if you'd like to restore the old behavior.\n",
      "[10:32:55] WARNING: ..\\src\\learner.cc:1095: Starting in XGBoost 1.3.0, the default evaluation metric used with the objective 'multi:softprob' was changed from 'merror' to 'mlogloss'. Explicitly set eval_metric if you'd like to restore the old behavior.\n",
      "[10:32:57] WARNING: ..\\src\\learner.cc:1095: Starting in XGBoost 1.3.0, the default evaluation metric used with the objective 'multi:softprob' was changed from 'merror' to 'mlogloss'. Explicitly set eval_metric if you'd like to restore the old behavior.\n",
      "[10:32:58] WARNING: ..\\src\\learner.cc:1095: Starting in XGBoost 1.3.0, the default evaluation metric used with the objective 'multi:softprob' was changed from 'merror' to 'mlogloss'. Explicitly set eval_metric if you'd like to restore the old behavior.\n",
      "[10:33:00] WARNING: ..\\src\\learner.cc:1095: Starting in XGBoost 1.3.0, the default evaluation metric used with the objective 'multi:softprob' was changed from 'merror' to 'mlogloss'. Explicitly set eval_metric if you'd like to restore the old behavior.\n"
     ]
    },
    {
     "name": "stderr",
     "output_type": "stream",
     "text": [
      "C:\\ProgramData\\Anaconda3\\lib\\site-packages\\xgboost\\data.py:112: UserWarning: Use subset (sliced data) of np.ndarray is not recommended because it will generate extra copies and increase memory consumption\n",
      "  warnings.warn(\n",
      "C:\\ProgramData\\Anaconda3\\lib\\site-packages\\xgboost\\data.py:112: UserWarning: Use subset (sliced data) of np.ndarray is not recommended because it will generate extra copies and increase memory consumption\n",
      "  warnings.warn(\n"
     ]
    },
    {
     "name": "stdout",
     "output_type": "stream",
     "text": [
      "k=0 iter=4\n",
      "[10:33:02] WARNING: ..\\src\\learner.cc:1095: Starting in XGBoost 1.3.0, the default evaluation metric used with the objective 'multi:softprob' was changed from 'merror' to 'mlogloss'. Explicitly set eval_metric if you'd like to restore the old behavior.\n"
     ]
    },
    {
     "name": "stderr",
     "output_type": "stream",
     "text": [
      "C:\\ProgramData\\Anaconda3\\lib\\site-packages\\xgboost\\sklearn.py:1146: UserWarning: The use of label encoder in XGBClassifier is deprecated and will be removed in a future release. To remove this warning, do the following: 1) Pass option use_label_encoder=False when constructing XGBClassifier object; and 2) Encode your labels (y) as integers starting with 0, i.e. 0, 1, 2, ..., [num_class - 1].\n",
      "  warnings.warn(label_encoder_deprecation_msg, UserWarning)\n"
     ]
    },
    {
     "name": "stdout",
     "output_type": "stream",
     "text": [
      "[10:33:04] WARNING: ..\\src\\learner.cc:1095: Starting in XGBoost 1.3.0, the default evaluation metric used with the objective 'multi:softprob' was changed from 'merror' to 'mlogloss'. Explicitly set eval_metric if you'd like to restore the old behavior.\n",
      "[10:33:05] WARNING: ..\\src\\learner.cc:1095: Starting in XGBoost 1.3.0, the default evaluation metric used with the objective 'multi:softprob' was changed from 'merror' to 'mlogloss'. Explicitly set eval_metric if you'd like to restore the old behavior.\n",
      "[10:33:06] WARNING: ..\\src\\learner.cc:1095: Starting in XGBoost 1.3.0, the default evaluation metric used with the objective 'multi:softprob' was changed from 'merror' to 'mlogloss'. Explicitly set eval_metric if you'd like to restore the old behavior.\n",
      "[10:33:08] WARNING: ..\\src\\learner.cc:1095: Starting in XGBoost 1.3.0, the default evaluation metric used with the objective 'multi:softprob' was changed from 'merror' to 'mlogloss'. Explicitly set eval_metric if you'd like to restore the old behavior.\n",
      "[10:33:09] WARNING: ..\\src\\learner.cc:1095: Starting in XGBoost 1.3.0, the default evaluation metric used with the objective 'multi:softprob' was changed from 'merror' to 'mlogloss'. Explicitly set eval_metric if you'd like to restore the old behavior.\n",
      "[10:33:11] WARNING: ..\\src\\learner.cc:1095: Starting in XGBoost 1.3.0, the default evaluation metric used with the objective 'multi:softprob' was changed from 'merror' to 'mlogloss'. Explicitly set eval_metric if you'd like to restore the old behavior.\n",
      "[10:33:13] WARNING: ..\\src\\learner.cc:1095: Starting in XGBoost 1.3.0, the default evaluation metric used with the objective 'multi:softprob' was changed from 'merror' to 'mlogloss'. Explicitly set eval_metric if you'd like to restore the old behavior.\n",
      "[10:33:14] WARNING: ..\\src\\learner.cc:1095: Starting in XGBoost 1.3.0, the default evaluation metric used with the objective 'multi:softprob' was changed from 'merror' to 'mlogloss'. Explicitly set eval_metric if you'd like to restore the old behavior.\n",
      "[10:33:16] WARNING: ..\\src\\learner.cc:1095: Starting in XGBoost 1.3.0, the default evaluation metric used with the objective 'multi:softprob' was changed from 'merror' to 'mlogloss'. Explicitly set eval_metric if you'd like to restore the old behavior.\n"
     ]
    },
    {
     "name": "stderr",
     "output_type": "stream",
     "text": [
      "C:\\ProgramData\\Anaconda3\\lib\\site-packages\\xgboost\\data.py:112: UserWarning: Use subset (sliced data) of np.ndarray is not recommended because it will generate extra copies and increase memory consumption\n",
      "  warnings.warn(\n",
      "C:\\ProgramData\\Anaconda3\\lib\\site-packages\\xgboost\\data.py:112: UserWarning: Use subset (sliced data) of np.ndarray is not recommended because it will generate extra copies and increase memory consumption\n",
      "  warnings.warn(\n",
      "C:\\ProgramData\\Anaconda3\\lib\\site-packages\\xgboost\\sklearn.py:1146: UserWarning: The use of label encoder in XGBClassifier is deprecated and will be removed in a future release. To remove this warning, do the following: 1) Pass option use_label_encoder=False when constructing XGBClassifier object; and 2) Encode your labels (y) as integers starting with 0, i.e. 0, 1, 2, ..., [num_class - 1].\n",
      "  warnings.warn(label_encoder_deprecation_msg, UserWarning)\n"
     ]
    },
    {
     "name": "stdout",
     "output_type": "stream",
     "text": [
      "k=0 iter=5\n",
      "[10:33:18] WARNING: ..\\src\\learner.cc:1095: Starting in XGBoost 1.3.0, the default evaluation metric used with the objective 'multi:softprob' was changed from 'merror' to 'mlogloss'. Explicitly set eval_metric if you'd like to restore the old behavior.\n",
      "[10:33:20] WARNING: ..\\src\\learner.cc:1095: Starting in XGBoost 1.3.0, the default evaluation metric used with the objective 'multi:softprob' was changed from 'merror' to 'mlogloss'. Explicitly set eval_metric if you'd like to restore the old behavior.\n",
      "[10:33:22] WARNING: ..\\src\\learner.cc:1095: Starting in XGBoost 1.3.0, the default evaluation metric used with the objective 'multi:softprob' was changed from 'merror' to 'mlogloss'. Explicitly set eval_metric if you'd like to restore the old behavior.\n",
      "[10:33:24] WARNING: ..\\src\\learner.cc:1095: Starting in XGBoost 1.3.0, the default evaluation metric used with the objective 'multi:softprob' was changed from 'merror' to 'mlogloss'. Explicitly set eval_metric if you'd like to restore the old behavior.\n",
      "[10:33:26] WARNING: ..\\src\\learner.cc:1095: Starting in XGBoost 1.3.0, the default evaluation metric used with the objective 'multi:softprob' was changed from 'merror' to 'mlogloss'. Explicitly set eval_metric if you'd like to restore the old behavior.\n",
      "[10:33:28] WARNING: ..\\src\\learner.cc:1095: Starting in XGBoost 1.3.0, the default evaluation metric used with the objective 'multi:softprob' was changed from 'merror' to 'mlogloss'. Explicitly set eval_metric if you'd like to restore the old behavior.\n",
      "[10:33:29] WARNING: ..\\src\\learner.cc:1095: Starting in XGBoost 1.3.0, the default evaluation metric used with the objective 'multi:softprob' was changed from 'merror' to 'mlogloss'. Explicitly set eval_metric if you'd like to restore the old behavior.\n",
      "[10:33:31] WARNING: ..\\src\\learner.cc:1095: Starting in XGBoost 1.3.0, the default evaluation metric used with the objective 'multi:softprob' was changed from 'merror' to 'mlogloss'. Explicitly set eval_metric if you'd like to restore the old behavior.\n",
      "[10:33:33] WARNING: ..\\src\\learner.cc:1095: Starting in XGBoost 1.3.0, the default evaluation metric used with the objective 'multi:softprob' was changed from 'merror' to 'mlogloss'. Explicitly set eval_metric if you'd like to restore the old behavior.\n",
      "[10:33:35] WARNING: ..\\src\\learner.cc:1095: Starting in XGBoost 1.3.0, the default evaluation metric used with the objective 'multi:softprob' was changed from 'merror' to 'mlogloss'. Explicitly set eval_metric if you'd like to restore the old behavior.\n"
     ]
    },
    {
     "name": "stderr",
     "output_type": "stream",
     "text": [
      "C:\\ProgramData\\Anaconda3\\lib\\site-packages\\xgboost\\data.py:112: UserWarning: Use subset (sliced data) of np.ndarray is not recommended because it will generate extra copies and increase memory consumption\n",
      "  warnings.warn(\n",
      "C:\\ProgramData\\Anaconda3\\lib\\site-packages\\xgboost\\data.py:112: UserWarning: Use subset (sliced data) of np.ndarray is not recommended because it will generate extra copies and increase memory consumption\n",
      "  warnings.warn(\n"
     ]
    },
    {
     "name": "stdout",
     "output_type": "stream",
     "text": [
      "k=0 iter=6\n",
      "[10:33:38] WARNING: ..\\src\\learner.cc:1095: Starting in XGBoost 1.3.0, the default evaluation metric used with the objective 'multi:softprob' was changed from 'merror' to 'mlogloss'. Explicitly set eval_metric if you'd like to restore the old behavior.\n"
     ]
    },
    {
     "name": "stderr",
     "output_type": "stream",
     "text": [
      "C:\\ProgramData\\Anaconda3\\lib\\site-packages\\xgboost\\sklearn.py:1146: UserWarning: The use of label encoder in XGBClassifier is deprecated and will be removed in a future release. To remove this warning, do the following: 1) Pass option use_label_encoder=False when constructing XGBClassifier object; and 2) Encode your labels (y) as integers starting with 0, i.e. 0, 1, 2, ..., [num_class - 1].\n",
      "  warnings.warn(label_encoder_deprecation_msg, UserWarning)\n"
     ]
    },
    {
     "name": "stdout",
     "output_type": "stream",
     "text": [
      "[10:33:40] WARNING: ..\\src\\learner.cc:1095: Starting in XGBoost 1.3.0, the default evaluation metric used with the objective 'multi:softprob' was changed from 'merror' to 'mlogloss'. Explicitly set eval_metric if you'd like to restore the old behavior.\n",
      "[10:33:42] WARNING: ..\\src\\learner.cc:1095: Starting in XGBoost 1.3.0, the default evaluation metric used with the objective 'multi:softprob' was changed from 'merror' to 'mlogloss'. Explicitly set eval_metric if you'd like to restore the old behavior.\n",
      "[10:33:44] WARNING: ..\\src\\learner.cc:1095: Starting in XGBoost 1.3.0, the default evaluation metric used with the objective 'multi:softprob' was changed from 'merror' to 'mlogloss'. Explicitly set eval_metric if you'd like to restore the old behavior.\n",
      "[10:33:46] WARNING: ..\\src\\learner.cc:1095: Starting in XGBoost 1.3.0, the default evaluation metric used with the objective 'multi:softprob' was changed from 'merror' to 'mlogloss'. Explicitly set eval_metric if you'd like to restore the old behavior.\n",
      "[10:33:49] WARNING: ..\\src\\learner.cc:1095: Starting in XGBoost 1.3.0, the default evaluation metric used with the objective 'multi:softprob' was changed from 'merror' to 'mlogloss'. Explicitly set eval_metric if you'd like to restore the old behavior.\n",
      "[10:33:51] WARNING: ..\\src\\learner.cc:1095: Starting in XGBoost 1.3.0, the default evaluation metric used with the objective 'multi:softprob' was changed from 'merror' to 'mlogloss'. Explicitly set eval_metric if you'd like to restore the old behavior.\n",
      "[10:33:53] WARNING: ..\\src\\learner.cc:1095: Starting in XGBoost 1.3.0, the default evaluation metric used with the objective 'multi:softprob' was changed from 'merror' to 'mlogloss'. Explicitly set eval_metric if you'd like to restore the old behavior.\n",
      "[10:33:55] WARNING: ..\\src\\learner.cc:1095: Starting in XGBoost 1.3.0, the default evaluation metric used with the objective 'multi:softprob' was changed from 'merror' to 'mlogloss'. Explicitly set eval_metric if you'd like to restore the old behavior.\n",
      "[10:33:57] WARNING: ..\\src\\learner.cc:1095: Starting in XGBoost 1.3.0, the default evaluation metric used with the objective 'multi:softprob' was changed from 'merror' to 'mlogloss'. Explicitly set eval_metric if you'd like to restore the old behavior.\n"
     ]
    },
    {
     "name": "stderr",
     "output_type": "stream",
     "text": [
      "C:\\ProgramData\\Anaconda3\\lib\\site-packages\\xgboost\\data.py:112: UserWarning: Use subset (sliced data) of np.ndarray is not recommended because it will generate extra copies and increase memory consumption\n",
      "  warnings.warn(\n",
      "C:\\ProgramData\\Anaconda3\\lib\\site-packages\\xgboost\\data.py:112: UserWarning: Use subset (sliced data) of np.ndarray is not recommended because it will generate extra copies and increase memory consumption\n",
      "  warnings.warn(\n"
     ]
    },
    {
     "name": "stdout",
     "output_type": "stream",
     "text": [
      "k=0 iter=7\n",
      "[10:34:00] WARNING: ..\\src\\learner.cc:1095: Starting in XGBoost 1.3.0, the default evaluation metric used with the objective 'multi:softprob' was changed from 'merror' to 'mlogloss'. Explicitly set eval_metric if you'd like to restore the old behavior.\n"
     ]
    },
    {
     "name": "stderr",
     "output_type": "stream",
     "text": [
      "C:\\ProgramData\\Anaconda3\\lib\\site-packages\\xgboost\\sklearn.py:1146: UserWarning: The use of label encoder in XGBClassifier is deprecated and will be removed in a future release. To remove this warning, do the following: 1) Pass option use_label_encoder=False when constructing XGBClassifier object; and 2) Encode your labels (y) as integers starting with 0, i.e. 0, 1, 2, ..., [num_class - 1].\n",
      "  warnings.warn(label_encoder_deprecation_msg, UserWarning)\n"
     ]
    },
    {
     "name": "stdout",
     "output_type": "stream",
     "text": [
      "[10:34:03] WARNING: ..\\src\\learner.cc:1095: Starting in XGBoost 1.3.0, the default evaluation metric used with the objective 'multi:softprob' was changed from 'merror' to 'mlogloss'. Explicitly set eval_metric if you'd like to restore the old behavior.\n",
      "[10:34:05] WARNING: ..\\src\\learner.cc:1095: Starting in XGBoost 1.3.0, the default evaluation metric used with the objective 'multi:softprob' was changed from 'merror' to 'mlogloss'. Explicitly set eval_metric if you'd like to restore the old behavior.\n",
      "[10:34:08] WARNING: ..\\src\\learner.cc:1095: Starting in XGBoost 1.3.0, the default evaluation metric used with the objective 'multi:softprob' was changed from 'merror' to 'mlogloss'. Explicitly set eval_metric if you'd like to restore the old behavior.\n",
      "[10:34:11] WARNING: ..\\src\\learner.cc:1095: Starting in XGBoost 1.3.0, the default evaluation metric used with the objective 'multi:softprob' was changed from 'merror' to 'mlogloss'. Explicitly set eval_metric if you'd like to restore the old behavior.\n",
      "[10:34:13] WARNING: ..\\src\\learner.cc:1095: Starting in XGBoost 1.3.0, the default evaluation metric used with the objective 'multi:softprob' was changed from 'merror' to 'mlogloss'. Explicitly set eval_metric if you'd like to restore the old behavior.\n",
      "[10:34:16] WARNING: ..\\src\\learner.cc:1095: Starting in XGBoost 1.3.0, the default evaluation metric used with the objective 'multi:softprob' was changed from 'merror' to 'mlogloss'. Explicitly set eval_metric if you'd like to restore the old behavior.\n",
      "[10:34:19] WARNING: ..\\src\\learner.cc:1095: Starting in XGBoost 1.3.0, the default evaluation metric used with the objective 'multi:softprob' was changed from 'merror' to 'mlogloss'. Explicitly set eval_metric if you'd like to restore the old behavior.\n",
      "[10:34:21] WARNING: ..\\src\\learner.cc:1095: Starting in XGBoost 1.3.0, the default evaluation metric used with the objective 'multi:softprob' was changed from 'merror' to 'mlogloss'. Explicitly set eval_metric if you'd like to restore the old behavior.\n",
      "[10:34:24] WARNING: ..\\src\\learner.cc:1095: Starting in XGBoost 1.3.0, the default evaluation metric used with the objective 'multi:softprob' was changed from 'merror' to 'mlogloss'. Explicitly set eval_metric if you'd like to restore the old behavior.\n"
     ]
    },
    {
     "name": "stderr",
     "output_type": "stream",
     "text": [
      "C:\\ProgramData\\Anaconda3\\lib\\site-packages\\xgboost\\data.py:112: UserWarning: Use subset (sliced data) of np.ndarray is not recommended because it will generate extra copies and increase memory consumption\n",
      "  warnings.warn(\n",
      "C:\\ProgramData\\Anaconda3\\lib\\site-packages\\xgboost\\data.py:112: UserWarning: Use subset (sliced data) of np.ndarray is not recommended because it will generate extra copies and increase memory consumption\n",
      "  warnings.warn(\n"
     ]
    },
    {
     "name": "stdout",
     "output_type": "stream",
     "text": [
      "k=0 iter=8\n",
      "[10:34:27] WARNING: ..\\src\\learner.cc:1095: Starting in XGBoost 1.3.0, the default evaluation metric used with the objective 'multi:softprob' was changed from 'merror' to 'mlogloss'. Explicitly set eval_metric if you'd like to restore the old behavior.\n"
     ]
    },
    {
     "name": "stderr",
     "output_type": "stream",
     "text": [
      "C:\\ProgramData\\Anaconda3\\lib\\site-packages\\xgboost\\sklearn.py:1146: UserWarning: The use of label encoder in XGBClassifier is deprecated and will be removed in a future release. To remove this warning, do the following: 1) Pass option use_label_encoder=False when constructing XGBClassifier object; and 2) Encode your labels (y) as integers starting with 0, i.e. 0, 1, 2, ..., [num_class - 1].\n",
      "  warnings.warn(label_encoder_deprecation_msg, UserWarning)\n"
     ]
    },
    {
     "name": "stdout",
     "output_type": "stream",
     "text": [
      "[10:34:30] WARNING: ..\\src\\learner.cc:1095: Starting in XGBoost 1.3.0, the default evaluation metric used with the objective 'multi:softprob' was changed from 'merror' to 'mlogloss'. Explicitly set eval_metric if you'd like to restore the old behavior.\n",
      "[10:34:33] WARNING: ..\\src\\learner.cc:1095: Starting in XGBoost 1.3.0, the default evaluation metric used with the objective 'multi:softprob' was changed from 'merror' to 'mlogloss'. Explicitly set eval_metric if you'd like to restore the old behavior.\n",
      "[10:34:36] WARNING: ..\\src\\learner.cc:1095: Starting in XGBoost 1.3.0, the default evaluation metric used with the objective 'multi:softprob' was changed from 'merror' to 'mlogloss'. Explicitly set eval_metric if you'd like to restore the old behavior.\n",
      "[10:34:39] WARNING: ..\\src\\learner.cc:1095: Starting in XGBoost 1.3.0, the default evaluation metric used with the objective 'multi:softprob' was changed from 'merror' to 'mlogloss'. Explicitly set eval_metric if you'd like to restore the old behavior.\n",
      "[10:34:41] WARNING: ..\\src\\learner.cc:1095: Starting in XGBoost 1.3.0, the default evaluation metric used with the objective 'multi:softprob' was changed from 'merror' to 'mlogloss'. Explicitly set eval_metric if you'd like to restore the old behavior.\n",
      "[10:34:44] WARNING: ..\\src\\learner.cc:1095: Starting in XGBoost 1.3.0, the default evaluation metric used with the objective 'multi:softprob' was changed from 'merror' to 'mlogloss'. Explicitly set eval_metric if you'd like to restore the old behavior.\n",
      "[10:34:47] WARNING: ..\\src\\learner.cc:1095: Starting in XGBoost 1.3.0, the default evaluation metric used with the objective 'multi:softprob' was changed from 'merror' to 'mlogloss'. Explicitly set eval_metric if you'd like to restore the old behavior.\n",
      "[10:34:50] WARNING: ..\\src\\learner.cc:1095: Starting in XGBoost 1.3.0, the default evaluation metric used with the objective 'multi:softprob' was changed from 'merror' to 'mlogloss'. Explicitly set eval_metric if you'd like to restore the old behavior.\n",
      "[10:34:53] WARNING: ..\\src\\learner.cc:1095: Starting in XGBoost 1.3.0, the default evaluation metric used with the objective 'multi:softprob' was changed from 'merror' to 'mlogloss'. Explicitly set eval_metric if you'd like to restore the old behavior.\n"
     ]
    },
    {
     "name": "stderr",
     "output_type": "stream",
     "text": [
      "C:\\ProgramData\\Anaconda3\\lib\\site-packages\\xgboost\\data.py:112: UserWarning: Use subset (sliced data) of np.ndarray is not recommended because it will generate extra copies and increase memory consumption\n",
      "  warnings.warn(\n",
      "C:\\ProgramData\\Anaconda3\\lib\\site-packages\\xgboost\\data.py:112: UserWarning: Use subset (sliced data) of np.ndarray is not recommended because it will generate extra copies and increase memory consumption\n",
      "  warnings.warn(\n"
     ]
    },
    {
     "name": "stdout",
     "output_type": "stream",
     "text": [
      "k=0 iter=9\n",
      "[10:34:56] WARNING: ..\\src\\learner.cc:1095: Starting in XGBoost 1.3.0, the default evaluation metric used with the objective 'multi:softprob' was changed from 'merror' to 'mlogloss'. Explicitly set eval_metric if you'd like to restore the old behavior.\n"
     ]
    },
    {
     "name": "stderr",
     "output_type": "stream",
     "text": [
      "C:\\ProgramData\\Anaconda3\\lib\\site-packages\\xgboost\\sklearn.py:1146: UserWarning: The use of label encoder in XGBClassifier is deprecated and will be removed in a future release. To remove this warning, do the following: 1) Pass option use_label_encoder=False when constructing XGBClassifier object; and 2) Encode your labels (y) as integers starting with 0, i.e. 0, 1, 2, ..., [num_class - 1].\n",
      "  warnings.warn(label_encoder_deprecation_msg, UserWarning)\n"
     ]
    },
    {
     "name": "stdout",
     "output_type": "stream",
     "text": [
      "[10:35:00] WARNING: ..\\src\\learner.cc:1095: Starting in XGBoost 1.3.0, the default evaluation metric used with the objective 'multi:softprob' was changed from 'merror' to 'mlogloss'. Explicitly set eval_metric if you'd like to restore the old behavior.\n",
      "[10:35:03] WARNING: ..\\src\\learner.cc:1095: Starting in XGBoost 1.3.0, the default evaluation metric used with the objective 'multi:softprob' was changed from 'merror' to 'mlogloss'. Explicitly set eval_metric if you'd like to restore the old behavior.\n",
      "[10:35:06] WARNING: ..\\src\\learner.cc:1095: Starting in XGBoost 1.3.0, the default evaluation metric used with the objective 'multi:softprob' was changed from 'merror' to 'mlogloss'. Explicitly set eval_metric if you'd like to restore the old behavior.\n",
      "[10:35:10] WARNING: ..\\src\\learner.cc:1095: Starting in XGBoost 1.3.0, the default evaluation metric used with the objective 'multi:softprob' was changed from 'merror' to 'mlogloss'. Explicitly set eval_metric if you'd like to restore the old behavior.\n",
      "[10:35:13] WARNING: ..\\src\\learner.cc:1095: Starting in XGBoost 1.3.0, the default evaluation metric used with the objective 'multi:softprob' was changed from 'merror' to 'mlogloss'. Explicitly set eval_metric if you'd like to restore the old behavior.\n",
      "[10:35:16] WARNING: ..\\src\\learner.cc:1095: Starting in XGBoost 1.3.0, the default evaluation metric used with the objective 'multi:softprob' was changed from 'merror' to 'mlogloss'. Explicitly set eval_metric if you'd like to restore the old behavior.\n",
      "[10:35:19] WARNING: ..\\src\\learner.cc:1095: Starting in XGBoost 1.3.0, the default evaluation metric used with the objective 'multi:softprob' was changed from 'merror' to 'mlogloss'. Explicitly set eval_metric if you'd like to restore the old behavior.\n",
      "[10:35:23] WARNING: ..\\src\\learner.cc:1095: Starting in XGBoost 1.3.0, the default evaluation metric used with the objective 'multi:softprob' was changed from 'merror' to 'mlogloss'. Explicitly set eval_metric if you'd like to restore the old behavior.\n",
      "[10:35:26] WARNING: ..\\src\\learner.cc:1095: Starting in XGBoost 1.3.0, the default evaluation metric used with the objective 'multi:softprob' was changed from 'merror' to 'mlogloss'. Explicitly set eval_metric if you'd like to restore the old behavior.\n"
     ]
    },
    {
     "name": "stderr",
     "output_type": "stream",
     "text": [
      "C:\\ProgramData\\Anaconda3\\lib\\site-packages\\xgboost\\data.py:112: UserWarning: Use subset (sliced data) of np.ndarray is not recommended because it will generate extra copies and increase memory consumption\n",
      "  warnings.warn(\n",
      "C:\\ProgramData\\Anaconda3\\lib\\site-packages\\xgboost\\data.py:112: UserWarning: Use subset (sliced data) of np.ndarray is not recommended because it will generate extra copies and increase memory consumption\n",
      "  warnings.warn(\n"
     ]
    },
    {
     "name": "stdout",
     "output_type": "stream",
     "text": [
      "k=0 iter=10\n",
      "[10:35:30] WARNING: ..\\src\\learner.cc:1095: Starting in XGBoost 1.3.0, the default evaluation metric used with the objective 'multi:softprob' was changed from 'merror' to 'mlogloss'. Explicitly set eval_metric if you'd like to restore the old behavior.\n"
     ]
    },
    {
     "name": "stderr",
     "output_type": "stream",
     "text": [
      "C:\\ProgramData\\Anaconda3\\lib\\site-packages\\xgboost\\sklearn.py:1146: UserWarning: The use of label encoder in XGBClassifier is deprecated and will be removed in a future release. To remove this warning, do the following: 1) Pass option use_label_encoder=False when constructing XGBClassifier object; and 2) Encode your labels (y) as integers starting with 0, i.e. 0, 1, 2, ..., [num_class - 1].\n",
      "  warnings.warn(label_encoder_deprecation_msg, UserWarning)\n"
     ]
    },
    {
     "name": "stdout",
     "output_type": "stream",
     "text": [
      "[10:35:33] WARNING: ..\\src\\learner.cc:1095: Starting in XGBoost 1.3.0, the default evaluation metric used with the objective 'multi:softprob' was changed from 'merror' to 'mlogloss'. Explicitly set eval_metric if you'd like to restore the old behavior.\n",
      "[10:35:37] WARNING: ..\\src\\learner.cc:1095: Starting in XGBoost 1.3.0, the default evaluation metric used with the objective 'multi:softprob' was changed from 'merror' to 'mlogloss'. Explicitly set eval_metric if you'd like to restore the old behavior.\n",
      "[10:35:40] WARNING: ..\\src\\learner.cc:1095: Starting in XGBoost 1.3.0, the default evaluation metric used with the objective 'multi:softprob' was changed from 'merror' to 'mlogloss'. Explicitly set eval_metric if you'd like to restore the old behavior.\n",
      "[10:35:44] WARNING: ..\\src\\learner.cc:1095: Starting in XGBoost 1.3.0, the default evaluation metric used with the objective 'multi:softprob' was changed from 'merror' to 'mlogloss'. Explicitly set eval_metric if you'd like to restore the old behavior.\n",
      "[10:35:47] WARNING: ..\\src\\learner.cc:1095: Starting in XGBoost 1.3.0, the default evaluation metric used with the objective 'multi:softprob' was changed from 'merror' to 'mlogloss'. Explicitly set eval_metric if you'd like to restore the old behavior.\n",
      "[10:35:51] WARNING: ..\\src\\learner.cc:1095: Starting in XGBoost 1.3.0, the default evaluation metric used with the objective 'multi:softprob' was changed from 'merror' to 'mlogloss'. Explicitly set eval_metric if you'd like to restore the old behavior.\n",
      "[10:35:55] WARNING: ..\\src\\learner.cc:1095: Starting in XGBoost 1.3.0, the default evaluation metric used with the objective 'multi:softprob' was changed from 'merror' to 'mlogloss'. Explicitly set eval_metric if you'd like to restore the old behavior.\n",
      "[10:35:59] WARNING: ..\\src\\learner.cc:1095: Starting in XGBoost 1.3.0, the default evaluation metric used with the objective 'multi:softprob' was changed from 'merror' to 'mlogloss'. Explicitly set eval_metric if you'd like to restore the old behavior.\n",
      "[10:36:02] WARNING: ..\\src\\learner.cc:1095: Starting in XGBoost 1.3.0, the default evaluation metric used with the objective 'multi:softprob' was changed from 'merror' to 'mlogloss'. Explicitly set eval_metric if you'd like to restore the old behavior.\n"
     ]
    },
    {
     "name": "stderr",
     "output_type": "stream",
     "text": [
      "C:\\ProgramData\\Anaconda3\\lib\\site-packages\\xgboost\\data.py:112: UserWarning: Use subset (sliced data) of np.ndarray is not recommended because it will generate extra copies and increase memory consumption\n",
      "  warnings.warn(\n",
      "C:\\ProgramData\\Anaconda3\\lib\\site-packages\\xgboost\\data.py:112: UserWarning: Use subset (sliced data) of np.ndarray is not recommended because it will generate extra copies and increase memory consumption\n",
      "  warnings.warn(\n"
     ]
    },
    {
     "data": {
      "image/png": "[encoded data removed]",
      "text/plain": [
       "<Figure size 432x288 with 1 Axes>"
      ]
     },
     "metadata": {},
     "output_type": "display_data"
    }
   ],
   "source": [
    "xgb_bagging_learning=tst.learning_curve(bclf,train_count_xgb2.tolist(),train_count.merged_labels,dev_count_xgb2.tolist(),dev_count.merged_labels,10)\n",
    "show_learning_curve(\"bagged xgboost\",xgb_bagging_learning)"
   ]
  },
  {
   "cell_type": "code",
   "execution_count": 422,
   "id": "5d03a6ad",
   "metadata": {},
   "outputs": [
    {
     "name": "stdout",
     "output_type": "stream",
     "text": [
      "              precision    recall  f1-score   support\n",
      "\n",
      "           0       0.00      0.00      0.00        36\n",
      "           1       0.63      0.70      0.66       105\n",
      "           2       0.51      0.76      0.61       123\n",
      "           3       0.00      0.00      0.00        36\n",
      "\n",
      "    accuracy                           0.56       300\n",
      "   macro avg       0.29      0.36      0.32       300\n",
      "weighted avg       0.43      0.56      0.48       300\n",
      "\n",
      "Wall time: 402 ms\n"
     ]
    },
    {
     "name": "stderr",
     "output_type": "stream",
     "text": [
      "C:\\ProgramData\\Anaconda3\\lib\\site-packages\\sklearn\\metrics\\_classification.py:1248: UndefinedMetricWarning: Precision and F-score are ill-defined and being set to 0.0 in labels with no predicted samples. Use `zero_division` parameter to control this behavior.\n",
      "  _warn_prf(average, modifier, msg_start, len(result))\n",
      "C:\\ProgramData\\Anaconda3\\lib\\site-packages\\sklearn\\metrics\\_classification.py:1248: UndefinedMetricWarning: Precision and F-score are ill-defined and being set to 0.0 in labels with no predicted samples. Use `zero_division` parameter to control this behavior.\n",
      "  _warn_prf(average, modifier, msg_start, len(result))\n",
      "C:\\ProgramData\\Anaconda3\\lib\\site-packages\\sklearn\\metrics\\_classification.py:1248: UndefinedMetricWarning: Precision and F-score are ill-defined and being set to 0.0 in labels with no predicted samples. Use `zero_division` parameter to control this behavior.\n",
      "  _warn_prf(average, modifier, msg_start, len(result))\n"
     ]
    }
   ],
   "source": [
    "tst.report_model(MultinomialNB(),np.mat(train_count.merged_features),train_count.merged_labels,np.mat(dev_count.merged_features),dev_count.merged_labels)"
   ]
  },
  {
   "cell_type": "code",
   "execution_count": 423,
   "id": "79751a66",
   "metadata": {},
   "outputs": [
    {
     "name": "stderr",
     "output_type": "stream",
     "text": [
      "C:\\ProgramData\\Anaconda3\\lib\\site-packages\\xgboost\\sklearn.py:1146: UserWarning: The use of label encoder in XGBClassifier is deprecated and will be removed in a future release. To remove this warning, do the following: 1) Pass option use_label_encoder=False when constructing XGBClassifier object; and 2) Encode your labels (y) as integers starting with 0, i.e. 0, 1, 2, ..., [num_class - 1].\n",
      "  warnings.warn(label_encoder_deprecation_msg, UserWarning)\n"
     ]
    },
    {
     "name": "stdout",
     "output_type": "stream",
     "text": [
      "[18:30:12] WARNING: ..\\src\\learner.cc:1095: Starting in XGBoost 1.3.0, the default evaluation metric used with the objective 'multi:softprob' was changed from 'merror' to 'mlogloss'. Explicitly set eval_metric if you'd like to restore the old behavior.\n",
      "              precision    recall  f1-score   support\n",
      "\n",
      "           0       0.29      0.06      0.09        36\n",
      "           1       0.76      0.84      0.80       105\n",
      "           2       0.60      0.75      0.66       123\n",
      "           3       0.48      0.31      0.37        36\n",
      "\n",
      "    accuracy                           0.64       300\n",
      "   macro avg       0.53      0.49      0.48       300\n",
      "weighted avg       0.60      0.64      0.61       300\n",
      "\n",
      "Wall time: 6.49 s\n"
     ]
    }
   ],
   "source": [
    "tst.report_model(model_xgb,np.mat(train_count.merged_features),train_count.merged_labels,np.mat(dev_count.merged_features),dev_count.merged_labels)"
   ]
  },
  {
   "cell_type": "code",
   "execution_count": 424,
   "id": "81c1f6dc",
   "metadata": {},
   "outputs": [
    {
     "name": "stderr",
     "output_type": "stream",
     "text": [
      "C:\\ProgramData\\Anaconda3\\lib\\site-packages\\xgboost\\sklearn.py:1146: UserWarning: The use of label encoder in XGBClassifier is deprecated and will be removed in a future release. To remove this warning, do the following: 1) Pass option use_label_encoder=False when constructing XGBClassifier object; and 2) Encode your labels (y) as integers starting with 0, i.e. 0, 1, 2, ..., [num_class - 1].\n",
      "  warnings.warn(label_encoder_deprecation_msg, UserWarning)\n"
     ]
    },
    {
     "name": "stdout",
     "output_type": "stream",
     "text": [
      "[18:31:00] WARNING: ..\\src\\learner.cc:573: \n",
      "Parameters: { \"early_stopping\" } might not be used.\n",
      "\n",
      "  This may not be accurate due to some parameters are only used in language bindings but\n",
      "  passed down to XGBoost core.  Or some parameters are not used but slip through this\n",
      "  verification. Please open an issue if you find above cases.\n",
      "\n",
      "\n",
      "[18:31:00] WARNING: ..\\src\\learner.cc:1095: Starting in XGBoost 1.3.0, the default evaluation metric used with the objective 'multi:softprob' was changed from 'merror' to 'mlogloss'. Explicitly set eval_metric if you'd like to restore the old behavior.\n",
      "              precision    recall  f1-score   support\n",
      "\n",
      "           0       0.00      0.00      0.00        36\n",
      "           1       0.77      0.87      0.82       105\n",
      "           2       0.58      0.80      0.67       123\n",
      "           3       0.50      0.14      0.22        36\n",
      "\n",
      "    accuracy                           0.65       300\n",
      "   macro avg       0.46      0.45      0.43       300\n",
      "weighted avg       0.57      0.65      0.59       300\n",
      "\n",
      "Wall time: 8min 1s\n"
     ]
    }
   ],
   "source": [
    "%%time\n",
    "tst.report_model(vclf,np.mat(train_count.merged_features),train_count.merged_labels,np.mat(dev_count.merged_features),dev_count.merged_labels)"
   ]
  },
  {
   "cell_type": "code",
   "execution_count": 625,
   "id": "17156d20",
   "metadata": {},
   "outputs": [],
   "source": [
    "def find_mis_classified(pred,golden):\n",
    "    labels=list(set(golden))\n",
    "    labelDic=dict(zip(labels,[[] for iter in range(len(labels))]))\n",
    "    for p,g in zip(pred,golden):\n",
    "        if p!=g:\n",
    "            labelDic[g].append(p)\n",
    "    for iter in labelDic.items():\n",
    "        total_misclassify=len(iter[1])\n",
    "        classDic=Counter(iter[1])\n",
    "        print(\"class \"+str(iter[0])+\": \")\n",
    "        for cls in classDic.items():\n",
    "            print(str(cls[0])+' '+str(cls[1]*100/total_misclassify)+'%')\n",
    "            \n",
    "def find_mis_classified_interface(model,train_x,train_y,test_x,test_y):\n",
    "    model.fit(train_x,train_y)\n",
    "    pred=model.predict(test_x)\n",
    "    find_mis_classified(pred,test_y)"
   ]
  },
  {
   "cell_type": "code",
   "execution_count": 628,
   "id": "fb806195",
   "metadata": {},
   "outputs": [
    {
     "name": "stdout",
     "output_type": "stream",
     "text": [
      "class 0: \n",
      "2 67.74193548387096%\n",
      "1 25.806451612903224%\n",
      "3 6.451612903225806%\n",
      "class 1: \n",
      "2 93.75%\n",
      "3 6.25%\n",
      "class 2: \n",
      "1 63.41463414634146%\n",
      "0 9.75609756097561%\n",
      "3 26.829268292682926%\n",
      "class 3: \n",
      "2 77.41935483870968%\n",
      "1 22.580645161290324%\n"
     ]
    },
    {
     "name": "stderr",
     "output_type": "stream",
     "text": [
      "C:\\ProgramData\\Anaconda3\\lib\\site-packages\\sklearn\\linear_model\\_sag.py:328: ConvergenceWarning: The max_iter was reached which means the coef_ did not converge\n",
      "  warnings.warn(\"The max_iter was reached which means \"\n"
     ]
    }
   ],
   "source": [
    "find_mis_classified_interface(model_lr,train_count_xgb2,train_count.merged_labels,dev_count_xgb2,dev_count.merged_labels)"
   ]
  },
  {
   "cell_type": "code",
   "execution_count": 627,
   "id": "60799e6d",
   "metadata": {},
   "outputs": [
    {
     "name": "stderr",
     "output_type": "stream",
     "text": [
      "C:\\ProgramData\\Anaconda3\\lib\\site-packages\\xgboost\\sklearn.py:1146: UserWarning: The use of label encoder in XGBClassifier is deprecated and will be removed in a future release. To remove this warning, do the following: 1) Pass option use_label_encoder=False when constructing XGBClassifier object; and 2) Encode your labels (y) as integers starting with 0, i.e. 0, 1, 2, ..., [num_class - 1].\n",
      "  warnings.warn(label_encoder_deprecation_msg, UserWarning)\n"
     ]
    },
    {
     "name": "stdout",
     "output_type": "stream",
     "text": [
      "[11:01:36] WARNING: ..\\src\\learner.cc:1095: Starting in XGBoost 1.3.0, the default evaluation metric used with the objective 'multi:softprob' was changed from 'merror' to 'mlogloss'. Explicitly set eval_metric if you'd like to restore the old behavior.\n",
      "class 0: \n",
      "2 87.09677419354838%\n",
      "3 3.225806451612903%\n",
      "1 9.67741935483871%\n",
      "class 1: \n",
      "2 78.26086956521739%\n",
      "0 4.3478260869565215%\n",
      "3 17.391304347826086%\n",
      "class 2: \n",
      "1 65.625%\n",
      "0 12.5%\n",
      "3 21.875%\n",
      "class 3: \n",
      "2 67.85714285714286%\n",
      "1 32.142857142857146%\n"
     ]
    },
    {
     "name": "stderr",
     "output_type": "stream",
     "text": [
      "C:\\ProgramData\\Anaconda3\\lib\\site-packages\\xgboost\\data.py:112: UserWarning: Use subset (sliced data) of np.ndarray is not recommended because it will generate extra copies and increase memory consumption\n",
      "  warnings.warn(\n"
     ]
    }
   ],
   "source": [
    "find_mis_classified_interface(model_xgb,train_count_xgb2,train_count.merged_labels,dev_count_xgb2,dev_count.merged_labels)"
   ]
  },
  {
   "cell_type": "code",
   "execution_count": 626,
   "id": "7f5733a1",
   "metadata": {},
   "outputs": [
    {
     "name": "stdout",
     "output_type": "stream",
     "text": [
      "class 0: \n",
      "2 80.55555555555556%\n",
      "1 16.666666666666668%\n",
      "3 2.7777777777777777%\n",
      "class 1: \n",
      "2 94.11764705882354%\n",
      "3 5.882352941176471%\n",
      "class 2: \n",
      "1 87.5%\n",
      "3 12.5%\n",
      "class 3: \n",
      "2 71.42857142857143%\n",
      "1 28.571428571428573%\n"
     ]
    }
   ],
   "source": [
    "find_mis_classified_interface(model_mlp,train_count_xgb2,train_count.merged_labels,dev_count_xgb2,dev_count.merged_labels)"
   ]
  },
  {
   "cell_type": "code",
   "execution_count": 624,
   "id": "fb30fcdf",
   "metadata": {},
   "outputs": [
    {
     "name": "stdout",
     "output_type": "stream",
     "text": [
      "class 0: \n",
      "2 83.33333333333333%\n",
      "1 16.666666666666668%\n",
      "class 1: \n",
      "2 100.0%\n",
      "class 2: \n",
      "1 93.10344827586206%\n",
      "3 6.896551724137931%\n",
      "class 3: \n",
      "1 25.714285714285715%\n",
      "2 74.28571428571429%\n"
     ]
    }
   ],
   "source": []
  },
  {
   "cell_type": "markdown",
   "id": "a4b1241f",
   "metadata": {},
   "source": [
    "### kaggle"
   ]
  },
  {
   "cell_type": "code",
   "execution_count": null,
   "id": "4915722b",
   "metadata": {},
   "outputs": [],
   "source": [
    "def to_kag_df(kag_pred):\n",
    "    resList=[]\n",
    "    for iter in range(len(kag_pred)):\n",
    "        resList.append([iter+1,kag_pred[iter]])\n",
    "    resDf=pd.DataFrame(resList,columns=['id','region'])\n",
    "    return resDf\n",
    "\n",
    "def unmerge_result(merged_users,users,merged_labels):\n",
    "    user_dic=dict(zip(merged_users,merged_labels))\n",
    "    res=[]\n",
    "    for iter in users:\n",
    "        res.append(user_dic[iter])\n",
    "    return res"
   ]
  },
  {
   "cell_type": "code",
   "execution_count": 638,
   "id": "ce8aada8",
   "metadata": {},
   "outputs": [],
   "source": [
    "kag_count=PreProcesser(r\"C:\\Users\\Lenovo\\Desktop\\course codes\\AI\\ass3\\data\\test_count.csv\",True)\n",
    "kag_count.get_merged_data()\n",
    "kag_count_xgb2=np.mat(kag_count.merged_features)[:,list(selected_2)]\n",
    "merged_train_features=train_count_xgb2.tolist()+dev_count_xgb2.tolist()\n",
    "merged_train_labels=train_count.merged_labels+dev_count.merged_labels\n",
    "bclf.fit(merged_train_features,merged_train_labels)\n",
    "kag_pred=bclf.predict(kag_count_xgb2).tolist()\n",
    "unmerged_kag_pred=unmerge_result(kag_count.merged_users,kag_count.users,kag_pred)\n",
    "unmerged_kag_pred=train_count.label_encoder.inverse_transform(unmerged_kag_pred).tolist()\n",
    "kag_df=to_kag_df(unmerged_kag_pred)\n",
    "with open('kaggle3.csv', 'a') as f:\n",
    "    kag_df.to_csv(f, line_terminator='\\n', index=False, header=True)"
   ]
  }
 ],
 "metadata": {
  "kernelspec": {
   "display_name": "conda",
   "language": "python",
   "name": "myenv"
  },
  "language_info": {
   "codemirror_mode": {
    "name": "ipython",
    "version": 3
   },
   "file_extension": ".py",
   "mimetype": "text/x-python",
   "name": "python",
   "nbconvert_exporter": "python",
   "pygments_lexer": "ipython3",
   "version": "3.8.8"
  }
 },
 "nbformat": 4,
 "nbformat_minor": 5
}
